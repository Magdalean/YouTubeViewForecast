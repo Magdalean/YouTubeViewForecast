{
  "cells": [
    {
      "cell_type": "code",
      "execution_count": null,
      "metadata": {
        "id": "6QpGnADEVqR-"
      },
      "outputs": [],
      "source": [
        "# !pip install --upgrade --force-reinstall --no-deps kaggle"
      ]
    },
    {
      "cell_type": "code",
      "execution_count": null,
      "metadata": {
        "id": "sPJGaulUdYdx"
      },
      "outputs": [],
      "source": [
        "import pandas as pd\n",
        "from datetime import datetime\n",
        "from sklearn.preprocessing import MinMaxScaler, StandardScaler\n",
        "\n",
        "import nltk\n",
        "# nltk.download()\n",
        "from nltk.tokenize import word_tokenize\n",
        "import pandas as pd\n",
        "import numpy as np\n",
        "from keras.preprocessing.sequence import pad_sequences\n",
        "from keras.preprocessing.text import Tokenizer\n",
        "from sklearn.model_selection import train_test_split\n",
        "from keras.models import Sequential\n",
        "from keras.layers import Dense, Dropout, Embedding, LSTM, SpatialDropout1D"
      ]
    },
    {
      "cell_type": "markdown",
      "metadata": {
        "id": "OyiGQc68dWDR"
      },
      "source": [
        "Downloading Kaggle dataset "
      ]
    },
    {
      "cell_type": "code",
      "execution_count": null,
      "metadata": {
        "id": "GvwqZEOWUxqi"
      },
      "outputs": [],
      "source": [
        "# ! cp kaggle.json ~/.kaggle/\n",
        "# ! chmod 600 ~/.kaggle/kaggle.json\n",
        "# !kaggle datasets download -d 'datasnaek/youtube-new'\n",
        "# !unzip /content/drive/Shareddrives/NEURALNETS/kaggle/youtube-new.zip"
      ]
    },
    {
      "cell_type": "markdown",
      "metadata": {
        "id": "PCEnV0Gx3ZZr"
      },
      "source": [
        "# Prep Code\n"
      ]
    },
    {
      "cell_type": "markdown",
      "metadata": {
        "id": "z8gFAso_H4YE"
      },
      "source": [
        "## Data prep"
      ]
    },
    {
      "cell_type": "code",
      "execution_count": null,
      "metadata": {
        "id": "bvO9F61RfGPp"
      },
      "outputs": [],
      "source": [
        "df = pd.read_csv(\"/content/drive/Shareddrives/NEURALNETS/kaggle/GBvideos.csv\")"
      ]
    },
    {
      "cell_type": "code",
      "execution_count": null,
      "metadata": {
        "colab": {
          "base_uri": "https://localhost:8080/"
        },
        "id": "v7mU0CrrfNQ3",
        "outputId": "1bc27270-179f-4b4d-c8a8-b980e32392c4"
      },
      "outputs": [
        {
          "output_type": "execute_result",
          "data": {
            "text/plain": [
              "               publish_time  category_id  \\\n",
              "0  2017-11-10T07:38:29.000Z           26   \n",
              "1  2017-11-12T06:24:44.000Z           24   \n",
              "2  2017-11-10T17:00:03.000Z           10   \n",
              "3  2017-11-13T02:30:38.000Z           17   \n",
              "4  2017-11-13T01:45:13.000Z           25   \n",
              "\n",
              "                                               title  \\\n",
              "0      John Lewis Christmas Ad 2017 - #MozTheMonster   \n",
              "1          Taylor Swift: …Ready for It? (Live) - SNL   \n",
              "2         Eminem - Walk On Water (Audio) ft. Beyoncé   \n",
              "3  Goals from Salford City vs Class of 92 and Fri...   \n",
              "4  Dashcam captures truck's near miss with child ...   \n",
              "\n",
              "                                         description     views  \n",
              "0  Click here to continue the story and make your...   7224515  \n",
              "1  Musical guest Taylor Swift performs …Ready for...   1053632  \n",
              "2  Eminem's new track Walk on Water ft. Beyoncé i...  17158579  \n",
              "3  Salford drew 4-4 against the Class of 92 and F...     27833  \n",
              "4  Dashcam captures truck's near miss with child ...      9815  "
            ],
            "text/html": [
              "\n",
              "  <div id=\"df-ecb7308c-376c-45f0-a148-da73e09a1655\">\n",
              "    <div class=\"colab-df-container\">\n",
              "      <div>\n",
              "<style scoped>\n",
              "    .dataframe tbody tr th:only-of-type {\n",
              "        vertical-align: middle;\n",
              "    }\n",
              "\n",
              "    .dataframe tbody tr th {\n",
              "        vertical-align: top;\n",
              "    }\n",
              "\n",
              "    .dataframe thead th {\n",
              "        text-align: right;\n",
              "    }\n",
              "</style>\n",
              "<table border=\"1\" class=\"dataframe\">\n",
              "  <thead>\n",
              "    <tr style=\"text-align: right;\">\n",
              "      <th></th>\n",
              "      <th>publish_time</th>\n",
              "      <th>category_id</th>\n",
              "      <th>title</th>\n",
              "      <th>description</th>\n",
              "      <th>views</th>\n",
              "    </tr>\n",
              "  </thead>\n",
              "  <tbody>\n",
              "    <tr>\n",
              "      <th>0</th>\n",
              "      <td>2017-11-10T07:38:29.000Z</td>\n",
              "      <td>26</td>\n",
              "      <td>John Lewis Christmas Ad 2017 - #MozTheMonster</td>\n",
              "      <td>Click here to continue the story and make your...</td>\n",
              "      <td>7224515</td>\n",
              "    </tr>\n",
              "    <tr>\n",
              "      <th>1</th>\n",
              "      <td>2017-11-12T06:24:44.000Z</td>\n",
              "      <td>24</td>\n",
              "      <td>Taylor Swift: …Ready for It? (Live) - SNL</td>\n",
              "      <td>Musical guest Taylor Swift performs …Ready for...</td>\n",
              "      <td>1053632</td>\n",
              "    </tr>\n",
              "    <tr>\n",
              "      <th>2</th>\n",
              "      <td>2017-11-10T17:00:03.000Z</td>\n",
              "      <td>10</td>\n",
              "      <td>Eminem - Walk On Water (Audio) ft. Beyoncé</td>\n",
              "      <td>Eminem's new track Walk on Water ft. Beyoncé i...</td>\n",
              "      <td>17158579</td>\n",
              "    </tr>\n",
              "    <tr>\n",
              "      <th>3</th>\n",
              "      <td>2017-11-13T02:30:38.000Z</td>\n",
              "      <td>17</td>\n",
              "      <td>Goals from Salford City vs Class of 92 and Fri...</td>\n",
              "      <td>Salford drew 4-4 against the Class of 92 and F...</td>\n",
              "      <td>27833</td>\n",
              "    </tr>\n",
              "    <tr>\n",
              "      <th>4</th>\n",
              "      <td>2017-11-13T01:45:13.000Z</td>\n",
              "      <td>25</td>\n",
              "      <td>Dashcam captures truck's near miss with child ...</td>\n",
              "      <td>Dashcam captures truck's near miss with child ...</td>\n",
              "      <td>9815</td>\n",
              "    </tr>\n",
              "  </tbody>\n",
              "</table>\n",
              "</div>\n",
              "      <button class=\"colab-df-convert\" onclick=\"convertToInteractive('df-ecb7308c-376c-45f0-a148-da73e09a1655')\"\n",
              "              title=\"Convert this dataframe to an interactive table.\"\n",
              "              style=\"display:none;\">\n",
              "        \n",
              "  <svg xmlns=\"http://www.w3.org/2000/svg\" height=\"24px\"viewBox=\"0 0 24 24\"\n",
              "       width=\"24px\">\n",
              "    <path d=\"M0 0h24v24H0V0z\" fill=\"none\"/>\n",
              "    <path d=\"M18.56 5.44l.94 2.06.94-2.06 2.06-.94-2.06-.94-.94-2.06-.94 2.06-2.06.94zm-11 1L8.5 8.5l.94-2.06 2.06-.94-2.06-.94L8.5 2.5l-.94 2.06-2.06.94zm10 10l.94 2.06.94-2.06 2.06-.94-2.06-.94-.94-2.06-.94 2.06-2.06.94z\"/><path d=\"M17.41 7.96l-1.37-1.37c-.4-.4-.92-.59-1.43-.59-.52 0-1.04.2-1.43.59L10.3 9.45l-7.72 7.72c-.78.78-.78 2.05 0 2.83L4 21.41c.39.39.9.59 1.41.59.51 0 1.02-.2 1.41-.59l7.78-7.78 2.81-2.81c.8-.78.8-2.07 0-2.86zM5.41 20L4 18.59l7.72-7.72 1.47 1.35L5.41 20z\"/>\n",
              "  </svg>\n",
              "      </button>\n",
              "      \n",
              "  <style>\n",
              "    .colab-df-container {\n",
              "      display:flex;\n",
              "      flex-wrap:wrap;\n",
              "      gap: 12px;\n",
              "    }\n",
              "\n",
              "    .colab-df-convert {\n",
              "      background-color: #E8F0FE;\n",
              "      border: none;\n",
              "      border-radius: 50%;\n",
              "      cursor: pointer;\n",
              "      display: none;\n",
              "      fill: #1967D2;\n",
              "      height: 32px;\n",
              "      padding: 0 0 0 0;\n",
              "      width: 32px;\n",
              "    }\n",
              "\n",
              "    .colab-df-convert:hover {\n",
              "      background-color: #E2EBFA;\n",
              "      box-shadow: 0px 1px 2px rgba(60, 64, 67, 0.3), 0px 1px 3px 1px rgba(60, 64, 67, 0.15);\n",
              "      fill: #174EA6;\n",
              "    }\n",
              "\n",
              "    [theme=dark] .colab-df-convert {\n",
              "      background-color: #3B4455;\n",
              "      fill: #D2E3FC;\n",
              "    }\n",
              "\n",
              "    [theme=dark] .colab-df-convert:hover {\n",
              "      background-color: #434B5C;\n",
              "      box-shadow: 0px 1px 3px 1px rgba(0, 0, 0, 0.15);\n",
              "      filter: drop-shadow(0px 1px 2px rgba(0, 0, 0, 0.3));\n",
              "      fill: #FFFFFF;\n",
              "    }\n",
              "  </style>\n",
              "\n",
              "      <script>\n",
              "        const buttonEl =\n",
              "          document.querySelector('#df-ecb7308c-376c-45f0-a148-da73e09a1655 button.colab-df-convert');\n",
              "        buttonEl.style.display =\n",
              "          google.colab.kernel.accessAllowed ? 'block' : 'none';\n",
              "\n",
              "        async function convertToInteractive(key) {\n",
              "          const element = document.querySelector('#df-ecb7308c-376c-45f0-a148-da73e09a1655');\n",
              "          const dataTable =\n",
              "            await google.colab.kernel.invokeFunction('convertToInteractive',\n",
              "                                                     [key], {});\n",
              "          if (!dataTable) return;\n",
              "\n",
              "          const docLinkHtml = 'Like what you see? Visit the ' +\n",
              "            '<a target=\"_blank\" href=https://colab.research.google.com/notebooks/data_table.ipynb>data table notebook</a>'\n",
              "            + ' to learn more about interactive tables.';\n",
              "          element.innerHTML = '';\n",
              "          dataTable['output_type'] = 'display_data';\n",
              "          await google.colab.output.renderOutput(dataTable, element);\n",
              "          const docLink = document.createElement('div');\n",
              "          docLink.innerHTML = docLinkHtml;\n",
              "          element.appendChild(docLink);\n",
              "        }\n",
              "      </script>\n",
              "    </div>\n",
              "  </div>\n",
              "  "
            ]
          },
          "metadata": {},
          "execution_count": 108
        }
      ],
      "source": [
        "features = df[['publish_time','category_id', 'title', 'description', 'views']]\n",
        "features.head()"
      ]
    },
    {
      "cell_type": "code",
      "execution_count": null,
      "metadata": {
        "colab": {
          "base_uri": "https://localhost:8080/"
        },
        "id": "43afFeHngOLv",
        "outputId": "5f81b838-4f28-42dc-b472-681a4ebe9c35"
      },
      "outputs": [
        {
          "output_type": "stream",
          "name": "stderr",
          "text": [
            "/usr/local/lib/python3.7/dist-packages/ipykernel_launcher.py:1: SettingWithCopyWarning: \n",
            "A value is trying to be set on a copy of a slice from a DataFrame.\n",
            "Try using .loc[row_indexer,col_indexer] = value instead\n",
            "\n",
            "See the caveats in the documentation: https://pandas.pydata.org/pandas-docs/stable/user_guide/indexing.html#returning-a-view-versus-a-copy\n",
            "  \"\"\"Entry point for launching an IPython kernel.\n"
          ]
        }
      ],
      "source": [
        "features['publish_datetime']  = pd.to_datetime(features['publish_time'])"
      ]
    },
    {
      "cell_type": "markdown",
      "source": [
        "Derive features from provided featyre \"publish_datetime\""
      ],
      "metadata": {
        "id": "LPBu82Zp3ngD"
      }
    },
    {
      "cell_type": "code",
      "execution_count": null,
      "metadata": {
        "colab": {
          "base_uri": "https://localhost:8080/"
        },
        "id": "N7HyZLYevbiQ",
        "outputId": "e553cf1f-4aa6-478c-d9a9-5c5bd474caae"
      },
      "outputs": [
        {
          "output_type": "stream",
          "name": "stderr",
          "text": [
            "/usr/local/lib/python3.7/dist-packages/ipykernel_launcher.py:1: SettingWithCopyWarning: \n",
            "A value is trying to be set on a copy of a slice from a DataFrame.\n",
            "Try using .loc[row_indexer,col_indexer] = value instead\n",
            "\n",
            "See the caveats in the documentation: https://pandas.pydata.org/pandas-docs/stable/user_guide/indexing.html#returning-a-view-versus-a-copy\n",
            "  \"\"\"Entry point for launching an IPython kernel.\n",
            "/usr/local/lib/python3.7/dist-packages/ipykernel_launcher.py:2: SettingWithCopyWarning: \n",
            "A value is trying to be set on a copy of a slice from a DataFrame.\n",
            "Try using .loc[row_indexer,col_indexer] = value instead\n",
            "\n",
            "See the caveats in the documentation: https://pandas.pydata.org/pandas-docs/stable/user_guide/indexing.html#returning-a-view-versus-a-copy\n",
            "  \n",
            "/usr/local/lib/python3.7/dist-packages/ipykernel_launcher.py:3: SettingWithCopyWarning: \n",
            "A value is trying to be set on a copy of a slice from a DataFrame.\n",
            "Try using .loc[row_indexer,col_indexer] = value instead\n",
            "\n",
            "See the caveats in the documentation: https://pandas.pydata.org/pandas-docs/stable/user_guide/indexing.html#returning-a-view-versus-a-copy\n",
            "  This is separate from the ipykernel package so we can avoid doing imports until\n",
            "/usr/local/lib/python3.7/dist-packages/ipykernel_launcher.py:4: SettingWithCopyWarning: \n",
            "A value is trying to be set on a copy of a slice from a DataFrame.\n",
            "Try using .loc[row_indexer,col_indexer] = value instead\n",
            "\n",
            "See the caveats in the documentation: https://pandas.pydata.org/pandas-docs/stable/user_guide/indexing.html#returning-a-view-versus-a-copy\n",
            "  after removing the cwd from sys.path.\n",
            "/usr/local/lib/python3.7/dist-packages/ipykernel_launcher.py:5: SettingWithCopyWarning: \n",
            "A value is trying to be set on a copy of a slice from a DataFrame.\n",
            "Try using .loc[row_indexer,col_indexer] = value instead\n",
            "\n",
            "See the caveats in the documentation: https://pandas.pydata.org/pandas-docs/stable/user_guide/indexing.html#returning-a-view-versus-a-copy\n",
            "  \"\"\"\n"
          ]
        }
      ],
      "source": [
        "features['day_of_year']  = features['publish_datetime'].dt.dayofyear\n",
        "features['weekday']  = features['publish_datetime'].dt.day_name()\n",
        "features['hour']  = features['publish_datetime'].dt.hour\n",
        "features['minute']  = features['publish_datetime'].dt.minute\n",
        "features['second']  = features['publish_datetime'].dt.second\n",
        "\n",
        "# monday is day 0, sunday is day 6 "
      ]
    },
    {
      "cell_type": "code",
      "execution_count": null,
      "metadata": {
        "colab": {
          "base_uri": "https://localhost:8080/"
        },
        "id": "m1qetM2LIRKU",
        "outputId": "30a654d7-243f-4ac2-9ef0-daf5ca5bf34c"
      },
      "outputs": [
        {
          "output_type": "execute_result",
          "data": {
            "text/plain": [
              "               publish_time  category_id  \\\n",
              "0  2017-11-10T07:38:29.000Z           26   \n",
              "1  2017-11-12T06:24:44.000Z           24   \n",
              "2  2017-11-10T17:00:03.000Z           10   \n",
              "3  2017-11-13T02:30:38.000Z           17   \n",
              "4  2017-11-13T01:45:13.000Z           25   \n",
              "\n",
              "                                               title  \\\n",
              "0      John Lewis Christmas Ad 2017 - #MozTheMonster   \n",
              "1          Taylor Swift: …Ready for It? (Live) - SNL   \n",
              "2         Eminem - Walk On Water (Audio) ft. Beyoncé   \n",
              "3  Goals from Salford City vs Class of 92 and Fri...   \n",
              "4  Dashcam captures truck's near miss with child ...   \n",
              "\n",
              "                                         description     views  \\\n",
              "0  Click here to continue the story and make your...   7224515   \n",
              "1  Musical guest Taylor Swift performs …Ready for...   1053632   \n",
              "2  Eminem's new track Walk on Water ft. Beyoncé i...  17158579   \n",
              "3  Salford drew 4-4 against the Class of 92 and F...     27833   \n",
              "4  Dashcam captures truck's near miss with child ...      9815   \n",
              "\n",
              "           publish_datetime  day_of_year weekday  hour  minute  second  \n",
              "0 2017-11-10 07:38:29+00:00          314  Friday     7      38      29  \n",
              "1 2017-11-12 06:24:44+00:00          316  Sunday     6      24      44  \n",
              "2 2017-11-10 17:00:03+00:00          314  Friday    17       0       3  \n",
              "3 2017-11-13 02:30:38+00:00          317  Monday     2      30      38  \n",
              "4 2017-11-13 01:45:13+00:00          317  Monday     1      45      13  "
            ],
            "text/html": [
              "\n",
              "  <div id=\"df-ed342123-ef6e-4050-b131-c17e386e92a5\">\n",
              "    <div class=\"colab-df-container\">\n",
              "      <div>\n",
              "<style scoped>\n",
              "    .dataframe tbody tr th:only-of-type {\n",
              "        vertical-align: middle;\n",
              "    }\n",
              "\n",
              "    .dataframe tbody tr th {\n",
              "        vertical-align: top;\n",
              "    }\n",
              "\n",
              "    .dataframe thead th {\n",
              "        text-align: right;\n",
              "    }\n",
              "</style>\n",
              "<table border=\"1\" class=\"dataframe\">\n",
              "  <thead>\n",
              "    <tr style=\"text-align: right;\">\n",
              "      <th></th>\n",
              "      <th>publish_time</th>\n",
              "      <th>category_id</th>\n",
              "      <th>title</th>\n",
              "      <th>description</th>\n",
              "      <th>views</th>\n",
              "      <th>publish_datetime</th>\n",
              "      <th>day_of_year</th>\n",
              "      <th>weekday</th>\n",
              "      <th>hour</th>\n",
              "      <th>minute</th>\n",
              "      <th>second</th>\n",
              "    </tr>\n",
              "  </thead>\n",
              "  <tbody>\n",
              "    <tr>\n",
              "      <th>0</th>\n",
              "      <td>2017-11-10T07:38:29.000Z</td>\n",
              "      <td>26</td>\n",
              "      <td>John Lewis Christmas Ad 2017 - #MozTheMonster</td>\n",
              "      <td>Click here to continue the story and make your...</td>\n",
              "      <td>7224515</td>\n",
              "      <td>2017-11-10 07:38:29+00:00</td>\n",
              "      <td>314</td>\n",
              "      <td>Friday</td>\n",
              "      <td>7</td>\n",
              "      <td>38</td>\n",
              "      <td>29</td>\n",
              "    </tr>\n",
              "    <tr>\n",
              "      <th>1</th>\n",
              "      <td>2017-11-12T06:24:44.000Z</td>\n",
              "      <td>24</td>\n",
              "      <td>Taylor Swift: …Ready for It? (Live) - SNL</td>\n",
              "      <td>Musical guest Taylor Swift performs …Ready for...</td>\n",
              "      <td>1053632</td>\n",
              "      <td>2017-11-12 06:24:44+00:00</td>\n",
              "      <td>316</td>\n",
              "      <td>Sunday</td>\n",
              "      <td>6</td>\n",
              "      <td>24</td>\n",
              "      <td>44</td>\n",
              "    </tr>\n",
              "    <tr>\n",
              "      <th>2</th>\n",
              "      <td>2017-11-10T17:00:03.000Z</td>\n",
              "      <td>10</td>\n",
              "      <td>Eminem - Walk On Water (Audio) ft. Beyoncé</td>\n",
              "      <td>Eminem's new track Walk on Water ft. Beyoncé i...</td>\n",
              "      <td>17158579</td>\n",
              "      <td>2017-11-10 17:00:03+00:00</td>\n",
              "      <td>314</td>\n",
              "      <td>Friday</td>\n",
              "      <td>17</td>\n",
              "      <td>0</td>\n",
              "      <td>3</td>\n",
              "    </tr>\n",
              "    <tr>\n",
              "      <th>3</th>\n",
              "      <td>2017-11-13T02:30:38.000Z</td>\n",
              "      <td>17</td>\n",
              "      <td>Goals from Salford City vs Class of 92 and Fri...</td>\n",
              "      <td>Salford drew 4-4 against the Class of 92 and F...</td>\n",
              "      <td>27833</td>\n",
              "      <td>2017-11-13 02:30:38+00:00</td>\n",
              "      <td>317</td>\n",
              "      <td>Monday</td>\n",
              "      <td>2</td>\n",
              "      <td>30</td>\n",
              "      <td>38</td>\n",
              "    </tr>\n",
              "    <tr>\n",
              "      <th>4</th>\n",
              "      <td>2017-11-13T01:45:13.000Z</td>\n",
              "      <td>25</td>\n",
              "      <td>Dashcam captures truck's near miss with child ...</td>\n",
              "      <td>Dashcam captures truck's near miss with child ...</td>\n",
              "      <td>9815</td>\n",
              "      <td>2017-11-13 01:45:13+00:00</td>\n",
              "      <td>317</td>\n",
              "      <td>Monday</td>\n",
              "      <td>1</td>\n",
              "      <td>45</td>\n",
              "      <td>13</td>\n",
              "    </tr>\n",
              "  </tbody>\n",
              "</table>\n",
              "</div>\n",
              "      <button class=\"colab-df-convert\" onclick=\"convertToInteractive('df-ed342123-ef6e-4050-b131-c17e386e92a5')\"\n",
              "              title=\"Convert this dataframe to an interactive table.\"\n",
              "              style=\"display:none;\">\n",
              "        \n",
              "  <svg xmlns=\"http://www.w3.org/2000/svg\" height=\"24px\"viewBox=\"0 0 24 24\"\n",
              "       width=\"24px\">\n",
              "    <path d=\"M0 0h24v24H0V0z\" fill=\"none\"/>\n",
              "    <path d=\"M18.56 5.44l.94 2.06.94-2.06 2.06-.94-2.06-.94-.94-2.06-.94 2.06-2.06.94zm-11 1L8.5 8.5l.94-2.06 2.06-.94-2.06-.94L8.5 2.5l-.94 2.06-2.06.94zm10 10l.94 2.06.94-2.06 2.06-.94-2.06-.94-.94-2.06-.94 2.06-2.06.94z\"/><path d=\"M17.41 7.96l-1.37-1.37c-.4-.4-.92-.59-1.43-.59-.52 0-1.04.2-1.43.59L10.3 9.45l-7.72 7.72c-.78.78-.78 2.05 0 2.83L4 21.41c.39.39.9.59 1.41.59.51 0 1.02-.2 1.41-.59l7.78-7.78 2.81-2.81c.8-.78.8-2.07 0-2.86zM5.41 20L4 18.59l7.72-7.72 1.47 1.35L5.41 20z\"/>\n",
              "  </svg>\n",
              "      </button>\n",
              "      \n",
              "  <style>\n",
              "    .colab-df-container {\n",
              "      display:flex;\n",
              "      flex-wrap:wrap;\n",
              "      gap: 12px;\n",
              "    }\n",
              "\n",
              "    .colab-df-convert {\n",
              "      background-color: #E8F0FE;\n",
              "      border: none;\n",
              "      border-radius: 50%;\n",
              "      cursor: pointer;\n",
              "      display: none;\n",
              "      fill: #1967D2;\n",
              "      height: 32px;\n",
              "      padding: 0 0 0 0;\n",
              "      width: 32px;\n",
              "    }\n",
              "\n",
              "    .colab-df-convert:hover {\n",
              "      background-color: #E2EBFA;\n",
              "      box-shadow: 0px 1px 2px rgba(60, 64, 67, 0.3), 0px 1px 3px 1px rgba(60, 64, 67, 0.15);\n",
              "      fill: #174EA6;\n",
              "    }\n",
              "\n",
              "    [theme=dark] .colab-df-convert {\n",
              "      background-color: #3B4455;\n",
              "      fill: #D2E3FC;\n",
              "    }\n",
              "\n",
              "    [theme=dark] .colab-df-convert:hover {\n",
              "      background-color: #434B5C;\n",
              "      box-shadow: 0px 1px 3px 1px rgba(0, 0, 0, 0.15);\n",
              "      filter: drop-shadow(0px 1px 2px rgba(0, 0, 0, 0.3));\n",
              "      fill: #FFFFFF;\n",
              "    }\n",
              "  </style>\n",
              "\n",
              "      <script>\n",
              "        const buttonEl =\n",
              "          document.querySelector('#df-ed342123-ef6e-4050-b131-c17e386e92a5 button.colab-df-convert');\n",
              "        buttonEl.style.display =\n",
              "          google.colab.kernel.accessAllowed ? 'block' : 'none';\n",
              "\n",
              "        async function convertToInteractive(key) {\n",
              "          const element = document.querySelector('#df-ed342123-ef6e-4050-b131-c17e386e92a5');\n",
              "          const dataTable =\n",
              "            await google.colab.kernel.invokeFunction('convertToInteractive',\n",
              "                                                     [key], {});\n",
              "          if (!dataTable) return;\n",
              "\n",
              "          const docLinkHtml = 'Like what you see? Visit the ' +\n",
              "            '<a target=\"_blank\" href=https://colab.research.google.com/notebooks/data_table.ipynb>data table notebook</a>'\n",
              "            + ' to learn more about interactive tables.';\n",
              "          element.innerHTML = '';\n",
              "          dataTable['output_type'] = 'display_data';\n",
              "          await google.colab.output.renderOutput(dataTable, element);\n",
              "          const docLink = document.createElement('div');\n",
              "          docLink.innerHTML = docLinkHtml;\n",
              "          element.appendChild(docLink);\n",
              "        }\n",
              "      </script>\n",
              "    </div>\n",
              "  </div>\n",
              "  "
            ]
          },
          "metadata": {},
          "execution_count": 111
        }
      ],
      "source": [
        "features.head()"
      ]
    },
    {
      "cell_type": "markdown",
      "metadata": {
        "id": "BOiaHIKGHp5Q"
      },
      "source": [
        "## Categorical Variables "
      ]
    },
    {
      "cell_type": "code",
      "execution_count": null,
      "metadata": {
        "id": "d0GpIQREHpdd"
      },
      "outputs": [],
      "source": [
        "features = pd.get_dummies(features, columns=['weekday'])\n",
        "features = pd.get_dummies(features, columns=['category_id'])"
      ]
    },
    {
      "cell_type": "code",
      "execution_count": null,
      "metadata": {
        "colab": {
          "base_uri": "https://localhost:8080/"
        },
        "id": "N0Vzi1n3ybJN",
        "outputId": "262e59a1-b30d-4a77-9d3f-4b33f4e2346d"
      },
      "outputs": [
        {
          "output_type": "execute_result",
          "data": {
            "text/plain": [
              "      views                                              title  day_of_year  \\\n",
              "0   7224515      John Lewis Christmas Ad 2017 - #MozTheMonster          314   \n",
              "1   1053632          Taylor Swift: …Ready for It? (Live) - SNL          316   \n",
              "2  17158579         Eminem - Walk On Water (Audio) ft. Beyoncé          314   \n",
              "3     27833  Goals from Salford City vs Class of 92 and Fri...          317   \n",
              "4      9815  Dashcam captures truck's near miss with child ...          317   \n",
              "\n",
              "   hour  minute  second  weekday_Friday  weekday_Monday  weekday_Saturday  \\\n",
              "0     7      38      29               1               0                 0   \n",
              "1     6      24      44               0               0                 0   \n",
              "2    17       0       3               1               0                 0   \n",
              "3     2      30      38               0               1                 0   \n",
              "4     1      45      13               0               1                 0   \n",
              "\n",
              "   weekday_Sunday  ...  category_id_22  category_id_23  category_id_24  \\\n",
              "0               0  ...               0               0               0   \n",
              "1               1  ...               0               0               1   \n",
              "2               0  ...               0               0               0   \n",
              "3               0  ...               0               0               0   \n",
              "4               0  ...               0               0               0   \n",
              "\n",
              "   category_id_25  category_id_26  category_id_27  category_id_28  \\\n",
              "0               0               1               0               0   \n",
              "1               0               0               0               0   \n",
              "2               0               0               0               0   \n",
              "3               0               0               0               0   \n",
              "4               1               0               0               0   \n",
              "\n",
              "   category_id_29  category_id_43  title_len  \n",
              "0               0               0         45  \n",
              "1               0               0         41  \n",
              "2               0               0         42  \n",
              "3               0               0         76  \n",
              "4               0               0         55  \n",
              "\n",
              "[5 rows x 30 columns]"
            ],
            "text/html": [
              "\n",
              "  <div id=\"df-cf50fbdf-fe7d-4a3c-b1dd-0a8c2b126dce\">\n",
              "    <div class=\"colab-df-container\">\n",
              "      <div>\n",
              "<style scoped>\n",
              "    .dataframe tbody tr th:only-of-type {\n",
              "        vertical-align: middle;\n",
              "    }\n",
              "\n",
              "    .dataframe tbody tr th {\n",
              "        vertical-align: top;\n",
              "    }\n",
              "\n",
              "    .dataframe thead th {\n",
              "        text-align: right;\n",
              "    }\n",
              "</style>\n",
              "<table border=\"1\" class=\"dataframe\">\n",
              "  <thead>\n",
              "    <tr style=\"text-align: right;\">\n",
              "      <th></th>\n",
              "      <th>views</th>\n",
              "      <th>title</th>\n",
              "      <th>day_of_year</th>\n",
              "      <th>hour</th>\n",
              "      <th>minute</th>\n",
              "      <th>second</th>\n",
              "      <th>weekday_Friday</th>\n",
              "      <th>weekday_Monday</th>\n",
              "      <th>weekday_Saturday</th>\n",
              "      <th>weekday_Sunday</th>\n",
              "      <th>...</th>\n",
              "      <th>category_id_22</th>\n",
              "      <th>category_id_23</th>\n",
              "      <th>category_id_24</th>\n",
              "      <th>category_id_25</th>\n",
              "      <th>category_id_26</th>\n",
              "      <th>category_id_27</th>\n",
              "      <th>category_id_28</th>\n",
              "      <th>category_id_29</th>\n",
              "      <th>category_id_43</th>\n",
              "      <th>title_len</th>\n",
              "    </tr>\n",
              "  </thead>\n",
              "  <tbody>\n",
              "    <tr>\n",
              "      <th>0</th>\n",
              "      <td>7224515</td>\n",
              "      <td>John Lewis Christmas Ad 2017 - #MozTheMonster</td>\n",
              "      <td>314</td>\n",
              "      <td>7</td>\n",
              "      <td>38</td>\n",
              "      <td>29</td>\n",
              "      <td>1</td>\n",
              "      <td>0</td>\n",
              "      <td>0</td>\n",
              "      <td>0</td>\n",
              "      <td>...</td>\n",
              "      <td>0</td>\n",
              "      <td>0</td>\n",
              "      <td>0</td>\n",
              "      <td>0</td>\n",
              "      <td>1</td>\n",
              "      <td>0</td>\n",
              "      <td>0</td>\n",
              "      <td>0</td>\n",
              "      <td>0</td>\n",
              "      <td>45</td>\n",
              "    </tr>\n",
              "    <tr>\n",
              "      <th>1</th>\n",
              "      <td>1053632</td>\n",
              "      <td>Taylor Swift: …Ready for It? (Live) - SNL</td>\n",
              "      <td>316</td>\n",
              "      <td>6</td>\n",
              "      <td>24</td>\n",
              "      <td>44</td>\n",
              "      <td>0</td>\n",
              "      <td>0</td>\n",
              "      <td>0</td>\n",
              "      <td>1</td>\n",
              "      <td>...</td>\n",
              "      <td>0</td>\n",
              "      <td>0</td>\n",
              "      <td>1</td>\n",
              "      <td>0</td>\n",
              "      <td>0</td>\n",
              "      <td>0</td>\n",
              "      <td>0</td>\n",
              "      <td>0</td>\n",
              "      <td>0</td>\n",
              "      <td>41</td>\n",
              "    </tr>\n",
              "    <tr>\n",
              "      <th>2</th>\n",
              "      <td>17158579</td>\n",
              "      <td>Eminem - Walk On Water (Audio) ft. Beyoncé</td>\n",
              "      <td>314</td>\n",
              "      <td>17</td>\n",
              "      <td>0</td>\n",
              "      <td>3</td>\n",
              "      <td>1</td>\n",
              "      <td>0</td>\n",
              "      <td>0</td>\n",
              "      <td>0</td>\n",
              "      <td>...</td>\n",
              "      <td>0</td>\n",
              "      <td>0</td>\n",
              "      <td>0</td>\n",
              "      <td>0</td>\n",
              "      <td>0</td>\n",
              "      <td>0</td>\n",
              "      <td>0</td>\n",
              "      <td>0</td>\n",
              "      <td>0</td>\n",
              "      <td>42</td>\n",
              "    </tr>\n",
              "    <tr>\n",
              "      <th>3</th>\n",
              "      <td>27833</td>\n",
              "      <td>Goals from Salford City vs Class of 92 and Fri...</td>\n",
              "      <td>317</td>\n",
              "      <td>2</td>\n",
              "      <td>30</td>\n",
              "      <td>38</td>\n",
              "      <td>0</td>\n",
              "      <td>1</td>\n",
              "      <td>0</td>\n",
              "      <td>0</td>\n",
              "      <td>...</td>\n",
              "      <td>0</td>\n",
              "      <td>0</td>\n",
              "      <td>0</td>\n",
              "      <td>0</td>\n",
              "      <td>0</td>\n",
              "      <td>0</td>\n",
              "      <td>0</td>\n",
              "      <td>0</td>\n",
              "      <td>0</td>\n",
              "      <td>76</td>\n",
              "    </tr>\n",
              "    <tr>\n",
              "      <th>4</th>\n",
              "      <td>9815</td>\n",
              "      <td>Dashcam captures truck's near miss with child ...</td>\n",
              "      <td>317</td>\n",
              "      <td>1</td>\n",
              "      <td>45</td>\n",
              "      <td>13</td>\n",
              "      <td>0</td>\n",
              "      <td>1</td>\n",
              "      <td>0</td>\n",
              "      <td>0</td>\n",
              "      <td>...</td>\n",
              "      <td>0</td>\n",
              "      <td>0</td>\n",
              "      <td>0</td>\n",
              "      <td>1</td>\n",
              "      <td>0</td>\n",
              "      <td>0</td>\n",
              "      <td>0</td>\n",
              "      <td>0</td>\n",
              "      <td>0</td>\n",
              "      <td>55</td>\n",
              "    </tr>\n",
              "  </tbody>\n",
              "</table>\n",
              "<p>5 rows × 30 columns</p>\n",
              "</div>\n",
              "      <button class=\"colab-df-convert\" onclick=\"convertToInteractive('df-cf50fbdf-fe7d-4a3c-b1dd-0a8c2b126dce')\"\n",
              "              title=\"Convert this dataframe to an interactive table.\"\n",
              "              style=\"display:none;\">\n",
              "        \n",
              "  <svg xmlns=\"http://www.w3.org/2000/svg\" height=\"24px\"viewBox=\"0 0 24 24\"\n",
              "       width=\"24px\">\n",
              "    <path d=\"M0 0h24v24H0V0z\" fill=\"none\"/>\n",
              "    <path d=\"M18.56 5.44l.94 2.06.94-2.06 2.06-.94-2.06-.94-.94-2.06-.94 2.06-2.06.94zm-11 1L8.5 8.5l.94-2.06 2.06-.94-2.06-.94L8.5 2.5l-.94 2.06-2.06.94zm10 10l.94 2.06.94-2.06 2.06-.94-2.06-.94-.94-2.06-.94 2.06-2.06.94z\"/><path d=\"M17.41 7.96l-1.37-1.37c-.4-.4-.92-.59-1.43-.59-.52 0-1.04.2-1.43.59L10.3 9.45l-7.72 7.72c-.78.78-.78 2.05 0 2.83L4 21.41c.39.39.9.59 1.41.59.51 0 1.02-.2 1.41-.59l7.78-7.78 2.81-2.81c.8-.78.8-2.07 0-2.86zM5.41 20L4 18.59l7.72-7.72 1.47 1.35L5.41 20z\"/>\n",
              "  </svg>\n",
              "      </button>\n",
              "      \n",
              "  <style>\n",
              "    .colab-df-container {\n",
              "      display:flex;\n",
              "      flex-wrap:wrap;\n",
              "      gap: 12px;\n",
              "    }\n",
              "\n",
              "    .colab-df-convert {\n",
              "      background-color: #E8F0FE;\n",
              "      border: none;\n",
              "      border-radius: 50%;\n",
              "      cursor: pointer;\n",
              "      display: none;\n",
              "      fill: #1967D2;\n",
              "      height: 32px;\n",
              "      padding: 0 0 0 0;\n",
              "      width: 32px;\n",
              "    }\n",
              "\n",
              "    .colab-df-convert:hover {\n",
              "      background-color: #E2EBFA;\n",
              "      box-shadow: 0px 1px 2px rgba(60, 64, 67, 0.3), 0px 1px 3px 1px rgba(60, 64, 67, 0.15);\n",
              "      fill: #174EA6;\n",
              "    }\n",
              "\n",
              "    [theme=dark] .colab-df-convert {\n",
              "      background-color: #3B4455;\n",
              "      fill: #D2E3FC;\n",
              "    }\n",
              "\n",
              "    [theme=dark] .colab-df-convert:hover {\n",
              "      background-color: #434B5C;\n",
              "      box-shadow: 0px 1px 3px 1px rgba(0, 0, 0, 0.15);\n",
              "      filter: drop-shadow(0px 1px 2px rgba(0, 0, 0, 0.3));\n",
              "      fill: #FFFFFF;\n",
              "    }\n",
              "  </style>\n",
              "\n",
              "      <script>\n",
              "        const buttonEl =\n",
              "          document.querySelector('#df-cf50fbdf-fe7d-4a3c-b1dd-0a8c2b126dce button.colab-df-convert');\n",
              "        buttonEl.style.display =\n",
              "          google.colab.kernel.accessAllowed ? 'block' : 'none';\n",
              "\n",
              "        async function convertToInteractive(key) {\n",
              "          const element = document.querySelector('#df-cf50fbdf-fe7d-4a3c-b1dd-0a8c2b126dce');\n",
              "          const dataTable =\n",
              "            await google.colab.kernel.invokeFunction('convertToInteractive',\n",
              "                                                     [key], {});\n",
              "          if (!dataTable) return;\n",
              "\n",
              "          const docLinkHtml = 'Like what you see? Visit the ' +\n",
              "            '<a target=\"_blank\" href=https://colab.research.google.com/notebooks/data_table.ipynb>data table notebook</a>'\n",
              "            + ' to learn more about interactive tables.';\n",
              "          element.innerHTML = '';\n",
              "          dataTable['output_type'] = 'display_data';\n",
              "          await google.colab.output.renderOutput(dataTable, element);\n",
              "          const docLink = document.createElement('div');\n",
              "          docLink.innerHTML = docLinkHtml;\n",
              "          element.appendChild(docLink);\n",
              "        }\n",
              "      </script>\n",
              "    </div>\n",
              "  </div>\n",
              "  "
            ]
          },
          "metadata": {},
          "execution_count": 113
        }
      ],
      "source": [
        "features['title_len'] = (features['title']).apply(len)\n",
        "features = features.drop(columns=['publish_time', 'publish_datetime', 'description'])\n",
        "column_to_move = features.pop(\"views\")\n",
        "features.insert(0, \"views\", column_to_move )\n",
        "features.head()"
      ]
    },
    {
      "cell_type": "markdown",
      "metadata": {
        "id": "TiA0KaFJ0uYX"
      },
      "source": [
        "## Normalize data"
      ]
    },
    {
      "cell_type": "code",
      "source": [
        "for col in features:\n",
        "\n",
        "  if col == 'title':\n",
        "    continue\n",
        "  max = (features[col]).max()\n",
        "  min = (features[col]).min()\n",
        "  features[col] = 1 + (features[col] - min)/(max-min)\n"
      ],
      "metadata": {
        "id": "7EFO5xp8yAfK"
      },
      "execution_count": null,
      "outputs": []
    },
    {
      "cell_type": "code",
      "source": [
        "features.head()"
      ],
      "metadata": {
        "colab": {
          "base_uri": "https://localhost:8080/"
        },
        "id": "NAuHVqUx2BSv",
        "outputId": "26a23922-d02f-44aa-9358-1834e2b26d7b"
      },
      "execution_count": null,
      "outputs": [
        {
          "output_type": "execute_result",
          "data": {
            "text/plain": [
              "      views                                              title  day_of_year  \\\n",
              "0  1.017015      John Lewis Christmas Ad 2017 - #MozTheMonster     1.859890   \n",
              "1  1.002480          Taylor Swift: …Ready for It? (Live) - SNL     1.865385   \n",
              "2  1.040415         Eminem - Walk On Water (Audio) ft. Beyoncé     1.859890   \n",
              "3  1.000064  Goals from Salford City vs Class of 92 and Fri...     1.868132   \n",
              "4  1.000021  Dashcam captures truck's near miss with child ...     1.868132   \n",
              "\n",
              "       hour    minute    second  weekday_Friday  weekday_Monday  \\\n",
              "0  1.304348  1.644068  1.491525             2.0             1.0   \n",
              "1  1.260870  1.406780  1.745763             1.0             1.0   \n",
              "2  1.739130  1.000000  1.050847             2.0             1.0   \n",
              "3  1.086957  1.508475  1.644068             1.0             2.0   \n",
              "4  1.043478  1.762712  1.220339             1.0             2.0   \n",
              "\n",
              "   weekday_Saturday  weekday_Sunday  ...  category_id_22  category_id_23  \\\n",
              "0               1.0             1.0  ...             1.0             1.0   \n",
              "1               1.0             2.0  ...             1.0             1.0   \n",
              "2               1.0             1.0  ...             1.0             1.0   \n",
              "3               1.0             1.0  ...             1.0             1.0   \n",
              "4               1.0             1.0  ...             1.0             1.0   \n",
              "\n",
              "   category_id_24  category_id_25  category_id_26  category_id_27  \\\n",
              "0             1.0             1.0             2.0             1.0   \n",
              "1             2.0             1.0             1.0             1.0   \n",
              "2             1.0             1.0             1.0             1.0   \n",
              "3             1.0             1.0             1.0             1.0   \n",
              "4             1.0             2.0             1.0             1.0   \n",
              "\n",
              "   category_id_28  category_id_29  category_id_43  title_len  \n",
              "0             1.0             1.0             1.0   1.414894  \n",
              "1             1.0             1.0             1.0   1.372340  \n",
              "2             1.0             1.0             1.0   1.382979  \n",
              "3             1.0             1.0             1.0   1.744681  \n",
              "4             1.0             1.0             1.0   1.521277  \n",
              "\n",
              "[5 rows x 30 columns]"
            ],
            "text/html": [
              "\n",
              "  <div id=\"df-7bbb441b-4554-4207-b42e-7f7a80400bb1\">\n",
              "    <div class=\"colab-df-container\">\n",
              "      <div>\n",
              "<style scoped>\n",
              "    .dataframe tbody tr th:only-of-type {\n",
              "        vertical-align: middle;\n",
              "    }\n",
              "\n",
              "    .dataframe tbody tr th {\n",
              "        vertical-align: top;\n",
              "    }\n",
              "\n",
              "    .dataframe thead th {\n",
              "        text-align: right;\n",
              "    }\n",
              "</style>\n",
              "<table border=\"1\" class=\"dataframe\">\n",
              "  <thead>\n",
              "    <tr style=\"text-align: right;\">\n",
              "      <th></th>\n",
              "      <th>views</th>\n",
              "      <th>title</th>\n",
              "      <th>day_of_year</th>\n",
              "      <th>hour</th>\n",
              "      <th>minute</th>\n",
              "      <th>second</th>\n",
              "      <th>weekday_Friday</th>\n",
              "      <th>weekday_Monday</th>\n",
              "      <th>weekday_Saturday</th>\n",
              "      <th>weekday_Sunday</th>\n",
              "      <th>...</th>\n",
              "      <th>category_id_22</th>\n",
              "      <th>category_id_23</th>\n",
              "      <th>category_id_24</th>\n",
              "      <th>category_id_25</th>\n",
              "      <th>category_id_26</th>\n",
              "      <th>category_id_27</th>\n",
              "      <th>category_id_28</th>\n",
              "      <th>category_id_29</th>\n",
              "      <th>category_id_43</th>\n",
              "      <th>title_len</th>\n",
              "    </tr>\n",
              "  </thead>\n",
              "  <tbody>\n",
              "    <tr>\n",
              "      <th>0</th>\n",
              "      <td>1.017015</td>\n",
              "      <td>John Lewis Christmas Ad 2017 - #MozTheMonster</td>\n",
              "      <td>1.859890</td>\n",
              "      <td>1.304348</td>\n",
              "      <td>1.644068</td>\n",
              "      <td>1.491525</td>\n",
              "      <td>2.0</td>\n",
              "      <td>1.0</td>\n",
              "      <td>1.0</td>\n",
              "      <td>1.0</td>\n",
              "      <td>...</td>\n",
              "      <td>1.0</td>\n",
              "      <td>1.0</td>\n",
              "      <td>1.0</td>\n",
              "      <td>1.0</td>\n",
              "      <td>2.0</td>\n",
              "      <td>1.0</td>\n",
              "      <td>1.0</td>\n",
              "      <td>1.0</td>\n",
              "      <td>1.0</td>\n",
              "      <td>1.414894</td>\n",
              "    </tr>\n",
              "    <tr>\n",
              "      <th>1</th>\n",
              "      <td>1.002480</td>\n",
              "      <td>Taylor Swift: …Ready for It? (Live) - SNL</td>\n",
              "      <td>1.865385</td>\n",
              "      <td>1.260870</td>\n",
              "      <td>1.406780</td>\n",
              "      <td>1.745763</td>\n",
              "      <td>1.0</td>\n",
              "      <td>1.0</td>\n",
              "      <td>1.0</td>\n",
              "      <td>2.0</td>\n",
              "      <td>...</td>\n",
              "      <td>1.0</td>\n",
              "      <td>1.0</td>\n",
              "      <td>2.0</td>\n",
              "      <td>1.0</td>\n",
              "      <td>1.0</td>\n",
              "      <td>1.0</td>\n",
              "      <td>1.0</td>\n",
              "      <td>1.0</td>\n",
              "      <td>1.0</td>\n",
              "      <td>1.372340</td>\n",
              "    </tr>\n",
              "    <tr>\n",
              "      <th>2</th>\n",
              "      <td>1.040415</td>\n",
              "      <td>Eminem - Walk On Water (Audio) ft. Beyoncé</td>\n",
              "      <td>1.859890</td>\n",
              "      <td>1.739130</td>\n",
              "      <td>1.000000</td>\n",
              "      <td>1.050847</td>\n",
              "      <td>2.0</td>\n",
              "      <td>1.0</td>\n",
              "      <td>1.0</td>\n",
              "      <td>1.0</td>\n",
              "      <td>...</td>\n",
              "      <td>1.0</td>\n",
              "      <td>1.0</td>\n",
              "      <td>1.0</td>\n",
              "      <td>1.0</td>\n",
              "      <td>1.0</td>\n",
              "      <td>1.0</td>\n",
              "      <td>1.0</td>\n",
              "      <td>1.0</td>\n",
              "      <td>1.0</td>\n",
              "      <td>1.382979</td>\n",
              "    </tr>\n",
              "    <tr>\n",
              "      <th>3</th>\n",
              "      <td>1.000064</td>\n",
              "      <td>Goals from Salford City vs Class of 92 and Fri...</td>\n",
              "      <td>1.868132</td>\n",
              "      <td>1.086957</td>\n",
              "      <td>1.508475</td>\n",
              "      <td>1.644068</td>\n",
              "      <td>1.0</td>\n",
              "      <td>2.0</td>\n",
              "      <td>1.0</td>\n",
              "      <td>1.0</td>\n",
              "      <td>...</td>\n",
              "      <td>1.0</td>\n",
              "      <td>1.0</td>\n",
              "      <td>1.0</td>\n",
              "      <td>1.0</td>\n",
              "      <td>1.0</td>\n",
              "      <td>1.0</td>\n",
              "      <td>1.0</td>\n",
              "      <td>1.0</td>\n",
              "      <td>1.0</td>\n",
              "      <td>1.744681</td>\n",
              "    </tr>\n",
              "    <tr>\n",
              "      <th>4</th>\n",
              "      <td>1.000021</td>\n",
              "      <td>Dashcam captures truck's near miss with child ...</td>\n",
              "      <td>1.868132</td>\n",
              "      <td>1.043478</td>\n",
              "      <td>1.762712</td>\n",
              "      <td>1.220339</td>\n",
              "      <td>1.0</td>\n",
              "      <td>2.0</td>\n",
              "      <td>1.0</td>\n",
              "      <td>1.0</td>\n",
              "      <td>...</td>\n",
              "      <td>1.0</td>\n",
              "      <td>1.0</td>\n",
              "      <td>1.0</td>\n",
              "      <td>2.0</td>\n",
              "      <td>1.0</td>\n",
              "      <td>1.0</td>\n",
              "      <td>1.0</td>\n",
              "      <td>1.0</td>\n",
              "      <td>1.0</td>\n",
              "      <td>1.521277</td>\n",
              "    </tr>\n",
              "  </tbody>\n",
              "</table>\n",
              "<p>5 rows × 30 columns</p>\n",
              "</div>\n",
              "      <button class=\"colab-df-convert\" onclick=\"convertToInteractive('df-7bbb441b-4554-4207-b42e-7f7a80400bb1')\"\n",
              "              title=\"Convert this dataframe to an interactive table.\"\n",
              "              style=\"display:none;\">\n",
              "        \n",
              "  <svg xmlns=\"http://www.w3.org/2000/svg\" height=\"24px\"viewBox=\"0 0 24 24\"\n",
              "       width=\"24px\">\n",
              "    <path d=\"M0 0h24v24H0V0z\" fill=\"none\"/>\n",
              "    <path d=\"M18.56 5.44l.94 2.06.94-2.06 2.06-.94-2.06-.94-.94-2.06-.94 2.06-2.06.94zm-11 1L8.5 8.5l.94-2.06 2.06-.94-2.06-.94L8.5 2.5l-.94 2.06-2.06.94zm10 10l.94 2.06.94-2.06 2.06-.94-2.06-.94-.94-2.06-.94 2.06-2.06.94z\"/><path d=\"M17.41 7.96l-1.37-1.37c-.4-.4-.92-.59-1.43-.59-.52 0-1.04.2-1.43.59L10.3 9.45l-7.72 7.72c-.78.78-.78 2.05 0 2.83L4 21.41c.39.39.9.59 1.41.59.51 0 1.02-.2 1.41-.59l7.78-7.78 2.81-2.81c.8-.78.8-2.07 0-2.86zM5.41 20L4 18.59l7.72-7.72 1.47 1.35L5.41 20z\"/>\n",
              "  </svg>\n",
              "      </button>\n",
              "      \n",
              "  <style>\n",
              "    .colab-df-container {\n",
              "      display:flex;\n",
              "      flex-wrap:wrap;\n",
              "      gap: 12px;\n",
              "    }\n",
              "\n",
              "    .colab-df-convert {\n",
              "      background-color: #E8F0FE;\n",
              "      border: none;\n",
              "      border-radius: 50%;\n",
              "      cursor: pointer;\n",
              "      display: none;\n",
              "      fill: #1967D2;\n",
              "      height: 32px;\n",
              "      padding: 0 0 0 0;\n",
              "      width: 32px;\n",
              "    }\n",
              "\n",
              "    .colab-df-convert:hover {\n",
              "      background-color: #E2EBFA;\n",
              "      box-shadow: 0px 1px 2px rgba(60, 64, 67, 0.3), 0px 1px 3px 1px rgba(60, 64, 67, 0.15);\n",
              "      fill: #174EA6;\n",
              "    }\n",
              "\n",
              "    [theme=dark] .colab-df-convert {\n",
              "      background-color: #3B4455;\n",
              "      fill: #D2E3FC;\n",
              "    }\n",
              "\n",
              "    [theme=dark] .colab-df-convert:hover {\n",
              "      background-color: #434B5C;\n",
              "      box-shadow: 0px 1px 3px 1px rgba(0, 0, 0, 0.15);\n",
              "      filter: drop-shadow(0px 1px 2px rgba(0, 0, 0, 0.3));\n",
              "      fill: #FFFFFF;\n",
              "    }\n",
              "  </style>\n",
              "\n",
              "      <script>\n",
              "        const buttonEl =\n",
              "          document.querySelector('#df-7bbb441b-4554-4207-b42e-7f7a80400bb1 button.colab-df-convert');\n",
              "        buttonEl.style.display =\n",
              "          google.colab.kernel.accessAllowed ? 'block' : 'none';\n",
              "\n",
              "        async function convertToInteractive(key) {\n",
              "          const element = document.querySelector('#df-7bbb441b-4554-4207-b42e-7f7a80400bb1');\n",
              "          const dataTable =\n",
              "            await google.colab.kernel.invokeFunction('convertToInteractive',\n",
              "                                                     [key], {});\n",
              "          if (!dataTable) return;\n",
              "\n",
              "          const docLinkHtml = 'Like what you see? Visit the ' +\n",
              "            '<a target=\"_blank\" href=https://colab.research.google.com/notebooks/data_table.ipynb>data table notebook</a>'\n",
              "            + ' to learn more about interactive tables.';\n",
              "          element.innerHTML = '';\n",
              "          dataTable['output_type'] = 'display_data';\n",
              "          await google.colab.output.renderOutput(dataTable, element);\n",
              "          const docLink = document.createElement('div');\n",
              "          docLink.innerHTML = docLinkHtml;\n",
              "          element.appendChild(docLink);\n",
              "        }\n",
              "      </script>\n",
              "    </div>\n",
              "  </div>\n",
              "  "
            ]
          },
          "metadata": {},
          "execution_count": 115
        }
      ]
    },
    {
      "cell_type": "markdown",
      "metadata": {
        "id": "uYp_f1ue8Hai"
      },
      "source": [
        "## LSTM - Emotion Detection"
      ]
    },
    {
      "cell_type": "markdown",
      "metadata": {
        "id": "r6ECRFtWbAIG"
      },
      "source": [
        "## Load labelled emotion data "
      ]
    },
    {
      "cell_type": "code",
      "execution_count": null,
      "metadata": {
        "colab": {
          "base_uri": "https://localhost:8080/"
        },
        "id": "cXEOPbnT8Gt2",
        "outputId": "323f14af-8280-4fd7-9d93-a5c421468f60"
      },
      "outputs": [
        {
          "output_type": "stream",
          "name": "stdout",
          "text": [
            "/content/drive/Shareddrives/NEURALNETS/isear\n"
          ]
        }
      ],
      "source": [
        "cd /content/drive/Shareddrives/NEURALNETS/isear"
      ]
    },
    {
      "cell_type": "code",
      "execution_count": null,
      "metadata": {
        "id": "11Ih4XKBcAI7"
      },
      "outputs": [],
      "source": [
        "dflabelledog = pd.read_csv(\"/content/drive/Shareddrives/NEURALNETS/isear/eng_dataset.csv\")\n",
        "\n",
        "dflabelled = pd.read_csv(\"/content/drive/Shareddrives/NEURALNETS/tweet_emotions.csv\")\n",
        "\n",
        "dflabelled2 = pd.read_csv(\"/content/drive/Shareddrives/NEURALNETS/test.csv\")\n",
        "\n"
      ]
    },
    {
      "cell_type": "code",
      "execution_count": null,
      "metadata": {
        "colab": {
          "base_uri": "https://localhost:8080/",
          "height": 206
        },
        "id": "eimOOEtecKKX",
        "outputId": "d5ce8660-7a7a-4212-8449-241b98951b93"
      },
      "outputs": [
        {
          "output_type": "execute_result",
          "data": {
            "text/plain": [
              "  sentiment                                            content\n",
              "0     anger                              fuckin'm transtelecom\n",
              "1     anger                   Working   But it's Fridaaaayyyyy\n",
              "2     anger                         Packing  I don't like it..\n",
              "3     anger  I tried to dye my hair and all i got was a blo...\n",
              "4     anger  &quot;locked up abroad&quot; makes bein half b..."
            ],
            "text/html": [
              "\n",
              "  <div id=\"df-3e7fe17b-1078-40f2-b865-5e8c179ab412\">\n",
              "    <div class=\"colab-df-container\">\n",
              "      <div>\n",
              "<style scoped>\n",
              "    .dataframe tbody tr th:only-of-type {\n",
              "        vertical-align: middle;\n",
              "    }\n",
              "\n",
              "    .dataframe tbody tr th {\n",
              "        vertical-align: top;\n",
              "    }\n",
              "\n",
              "    .dataframe thead th {\n",
              "        text-align: right;\n",
              "    }\n",
              "</style>\n",
              "<table border=\"1\" class=\"dataframe\">\n",
              "  <thead>\n",
              "    <tr style=\"text-align: right;\">\n",
              "      <th></th>\n",
              "      <th>sentiment</th>\n",
              "      <th>content</th>\n",
              "    </tr>\n",
              "  </thead>\n",
              "  <tbody>\n",
              "    <tr>\n",
              "      <th>0</th>\n",
              "      <td>anger</td>\n",
              "      <td>fuckin'm transtelecom</td>\n",
              "    </tr>\n",
              "    <tr>\n",
              "      <th>1</th>\n",
              "      <td>anger</td>\n",
              "      <td>Working   But it's Fridaaaayyyyy</td>\n",
              "    </tr>\n",
              "    <tr>\n",
              "      <th>2</th>\n",
              "      <td>anger</td>\n",
              "      <td>Packing  I don't like it..</td>\n",
              "    </tr>\n",
              "    <tr>\n",
              "      <th>3</th>\n",
              "      <td>anger</td>\n",
              "      <td>I tried to dye my hair and all i got was a blo...</td>\n",
              "    </tr>\n",
              "    <tr>\n",
              "      <th>4</th>\n",
              "      <td>anger</td>\n",
              "      <td>&amp;quot;locked up abroad&amp;quot; makes bein half b...</td>\n",
              "    </tr>\n",
              "  </tbody>\n",
              "</table>\n",
              "</div>\n",
              "      <button class=\"colab-df-convert\" onclick=\"convertToInteractive('df-3e7fe17b-1078-40f2-b865-5e8c179ab412')\"\n",
              "              title=\"Convert this dataframe to an interactive table.\"\n",
              "              style=\"display:none;\">\n",
              "        \n",
              "  <svg xmlns=\"http://www.w3.org/2000/svg\" height=\"24px\"viewBox=\"0 0 24 24\"\n",
              "       width=\"24px\">\n",
              "    <path d=\"M0 0h24v24H0V0z\" fill=\"none\"/>\n",
              "    <path d=\"M18.56 5.44l.94 2.06.94-2.06 2.06-.94-2.06-.94-.94-2.06-.94 2.06-2.06.94zm-11 1L8.5 8.5l.94-2.06 2.06-.94-2.06-.94L8.5 2.5l-.94 2.06-2.06.94zm10 10l.94 2.06.94-2.06 2.06-.94-2.06-.94-.94-2.06-.94 2.06-2.06.94z\"/><path d=\"M17.41 7.96l-1.37-1.37c-.4-.4-.92-.59-1.43-.59-.52 0-1.04.2-1.43.59L10.3 9.45l-7.72 7.72c-.78.78-.78 2.05 0 2.83L4 21.41c.39.39.9.59 1.41.59.51 0 1.02-.2 1.41-.59l7.78-7.78 2.81-2.81c.8-.78.8-2.07 0-2.86zM5.41 20L4 18.59l7.72-7.72 1.47 1.35L5.41 20z\"/>\n",
              "  </svg>\n",
              "      </button>\n",
              "      \n",
              "  <style>\n",
              "    .colab-df-container {\n",
              "      display:flex;\n",
              "      flex-wrap:wrap;\n",
              "      gap: 12px;\n",
              "    }\n",
              "\n",
              "    .colab-df-convert {\n",
              "      background-color: #E8F0FE;\n",
              "      border: none;\n",
              "      border-radius: 50%;\n",
              "      cursor: pointer;\n",
              "      display: none;\n",
              "      fill: #1967D2;\n",
              "      height: 32px;\n",
              "      padding: 0 0 0 0;\n",
              "      width: 32px;\n",
              "    }\n",
              "\n",
              "    .colab-df-convert:hover {\n",
              "      background-color: #E2EBFA;\n",
              "      box-shadow: 0px 1px 2px rgba(60, 64, 67, 0.3), 0px 1px 3px 1px rgba(60, 64, 67, 0.15);\n",
              "      fill: #174EA6;\n",
              "    }\n",
              "\n",
              "    [theme=dark] .colab-df-convert {\n",
              "      background-color: #3B4455;\n",
              "      fill: #D2E3FC;\n",
              "    }\n",
              "\n",
              "    [theme=dark] .colab-df-convert:hover {\n",
              "      background-color: #434B5C;\n",
              "      box-shadow: 0px 1px 3px 1px rgba(0, 0, 0, 0.15);\n",
              "      filter: drop-shadow(0px 1px 2px rgba(0, 0, 0, 0.3));\n",
              "      fill: #FFFFFF;\n",
              "    }\n",
              "  </style>\n",
              "\n",
              "      <script>\n",
              "        const buttonEl =\n",
              "          document.querySelector('#df-3e7fe17b-1078-40f2-b865-5e8c179ab412 button.colab-df-convert');\n",
              "        buttonEl.style.display =\n",
              "          google.colab.kernel.accessAllowed ? 'block' : 'none';\n",
              "\n",
              "        async function convertToInteractive(key) {\n",
              "          const element = document.querySelector('#df-3e7fe17b-1078-40f2-b865-5e8c179ab412');\n",
              "          const dataTable =\n",
              "            await google.colab.kernel.invokeFunction('convertToInteractive',\n",
              "                                                     [key], {});\n",
              "          if (!dataTable) return;\n",
              "\n",
              "          const docLinkHtml = 'Like what you see? Visit the ' +\n",
              "            '<a target=\"_blank\" href=https://colab.research.google.com/notebooks/data_table.ipynb>data table notebook</a>'\n",
              "            + ' to learn more about interactive tables.';\n",
              "          element.innerHTML = '';\n",
              "          dataTable['output_type'] = 'display_data';\n",
              "          await google.colab.output.renderOutput(dataTable, element);\n",
              "          const docLink = document.createElement('div');\n",
              "          docLink.innerHTML = docLinkHtml;\n",
              "          element.appendChild(docLink);\n",
              "        }\n",
              "      </script>\n",
              "    </div>\n",
              "  </div>\n",
              "  "
            ]
          },
          "metadata": {},
          "execution_count": 34
        }
      ],
      "source": [
        "dflabelled.head()"
      ]
    },
    {
      "cell_type": "code",
      "execution_count": null,
      "metadata": {
        "colab": {
          "base_uri": "https://localhost:8080/"
        },
        "id": "NHEbFhbFcXik",
        "outputId": "798abe3b-4c21-416d-cddd-224d553c8d98"
      },
      "outputs": [
        {
          "output_type": "execute_result",
          "data": {
            "text/plain": [
              "array(['anger', 'boredom', 'empty', 'enthusiasm', 'fun', 'happiness',\n",
              "       'hate', 'love', 'neutral', 'relief', 'sadness', 'surprise',\n",
              "       'worry'], dtype=object)"
            ]
          },
          "metadata": {},
          "execution_count": 35
        }
      ],
      "source": [
        "dflabelled.sentiment.unique()"
      ]
    },
    {
      "cell_type": "code",
      "execution_count": null,
      "metadata": {
        "colab": {
          "base_uri": "https://localhost:8080/"
        },
        "id": "Sy-iz06cceA3",
        "outputId": "6fd61361-00bd-43f0-b9bd-70a3cf53dc99"
      },
      "outputs": [
        {
          "output_type": "execute_result",
          "data": {
            "text/plain": [
              "neutral       8638\n",
              "worry         8459\n",
              "happiness     5209\n",
              "sadness       5165\n",
              "love          3842\n",
              "surprise      2187\n",
              "fun           1776\n",
              "relief        1526\n",
              "hate          1323\n",
              "empty          827\n",
              "enthusiasm     759\n",
              "boredom        179\n",
              "anger          110\n",
              "Name: sentiment, dtype: int64"
            ]
          },
          "metadata": {},
          "execution_count": 36
        }
      ],
      "source": [
        "dflabelled.sentiment.value_counts()"
      ]
    },
    {
      "cell_type": "code",
      "source": [
        "dflabelled2.sentiment.value_counts().plot(kind='bar', stacked=False)"
      ],
      "metadata": {
        "colab": {
          "base_uri": "https://localhost:8080/",
          "height": 313
        },
        "id": "pWoQh2NACQ9B",
        "outputId": "36ddfbf2-abdd-4159-a3fb-c7a031f570c1"
      },
      "execution_count": null,
      "outputs": [
        {
          "output_type": "execute_result",
          "data": {
            "text/plain": [
              "<matplotlib.axes._subplots.AxesSubplot at 0x7fe8de86ebd0>"
            ]
          },
          "metadata": {},
          "execution_count": 80
        },
        {
          "output_type": "display_data",
          "data": {
            "text/plain": [
              "<Figure size 432x288 with 1 Axes>"
            ],
            "image/png": "[encoded data removed]"
          },
          "metadata": {
            "needs_background": "light"
          }
        }
      ]
    },
    {
      "cell_type": "code",
      "source": [
        "dflabelledog.sentiment.value_counts().plot(kind='bar', stacked=False)"
      ],
      "metadata": {
        "colab": {
          "base_uri": "https://localhost:8080/",
          "height": 313
        },
        "id": "owUjck8FCGf8",
        "outputId": "25ec2474-eab4-4a5b-e644-c4e7b597e6b1"
      },
      "execution_count": null,
      "outputs": [
        {
          "output_type": "execute_result",
          "data": {
            "text/plain": [
              "<matplotlib.axes._subplots.AxesSubplot at 0x7fe9805bd4d0>"
            ]
          },
          "metadata": {},
          "execution_count": 75
        },
        {
          "output_type": "display_data",
          "data": {
            "text/plain": [
              "<Figure size 432x288 with 1 Axes>"
            ],
            "image/png": "[encoded data removed]"
          },
          "metadata": {
            "needs_background": "light"
          }
        }
      ]
    },
    {
      "cell_type": "code",
      "execution_count": null,
      "metadata": {
        "colab": {
          "base_uri": "https://localhost:8080/",
          "height": 331
        },
        "id": "fZsg4k8BdYdE",
        "outputId": "4523e921-2dbb-4729-d763-9861ef9566c3"
      },
      "outputs": [
        {
          "output_type": "execute_result",
          "data": {
            "text/plain": [
              "<matplotlib.axes._subplots.AxesSubplot at 0x7fe8e205a790>"
            ]
          },
          "metadata": {},
          "execution_count": 37
        },
        {
          "output_type": "display_data",
          "data": {
            "text/plain": [
              "<Figure size 432x288 with 1 Axes>"
            ],
            "image/png": "[encoded data removed]"
          },
          "metadata": {
            "needs_background": "light"
          }
        }
      ],
      "source": [
        "dflabelled.sentiment.value_counts().plot(kind='bar', stacked=False)"
      ]
    },
    {
      "cell_type": "markdown",
      "metadata": {
        "id": "0RnGwqAW1Cia"
      },
      "source": [
        "## Cleanse data"
      ]
    },
    {
      "cell_type": "code",
      "execution_count": null,
      "metadata": {
        "colab": {
          "base_uri": "https://localhost:8080/"
        },
        "id": "Gc9R2aaYn5Id",
        "outputId": "9fe181c5-3b9f-4562-d8cb-ecc60bff181f"
      },
      "outputs": [
        {
          "output_type": "stream",
          "name": "stdout",
          "text": [
            "[nltk_data] Downloading package punkt to /root/nltk_data...\n",
            "[nltk_data]   Package punkt is already up-to-date!\n",
            "[nltk_data] Downloading package stopwords to /root/nltk_data...\n",
            "[nltk_data]   Package stopwords is already up-to-date!\n"
          ]
        },
        {
          "output_type": "execute_result",
          "data": {
            "text/plain": [
              "True"
            ]
          },
          "metadata": {},
          "execution_count": 38
        }
      ],
      "source": [
        "nltk.download('punkt')\n",
        "nltk.download('stopwords')"
      ]
    },
    {
      "cell_type": "code",
      "execution_count": null,
      "metadata": {
        "colab": {
          "base_uri": "https://localhost:8080/"
        },
        "id": "Bmh3YR11gyoY",
        "outputId": "d693b97c-6fc8-4afc-90cb-124a9ee6d07e"
      },
      "outputs": [
        {
          "output_type": "stream",
          "name": "stdout",
          "text": [
            "Clean data created\n"
          ]
        }
      ],
      "source": [
        "#data cleaning\n",
        "clean_data = []\n",
        "\n",
        "# start cleaning data\n",
        "for text in dflabelled['content']:\n",
        "    tokens = word_tokenize(text) # split the tokens\n",
        "    tokens = [w.lower() for w in tokens] # convert to lower case\n",
        "\n",
        "    import string\n",
        "    table = str.maketrans('', '', string.punctuation)\n",
        "    stripped = [w.translate(table) for w in tokens]\n",
        "    words = [word for word in stripped if word.isalpha()] # filter all the punciations\n",
        "\n",
        "    \n",
        "    # filtering stop words\n",
        "    from nltk.corpus import stopwords\n",
        "    stop_words = stopwords.words('english')\n",
        "\n",
        "    words = [w for w in words if not w in stop_words]\n",
        "\n",
        "    # stemming of words\n",
        "    from nltk.stem.porter import PorterStemmer\n",
        "    porter = PorterStemmer()\n",
        "    stemmed_words = [porter.stem(word) for word in words]\n",
        "\n",
        "    clean_text = ''\n",
        "    for w in stemmed_words:\n",
        "        clean_text += ' ' + w\n",
        "    clean_data.append(clean_text)\n",
        "\n",
        "print('Clean data created')\n",
        "dflabelled['clean_tweet'] = clean_data\n"
      ]
    },
    {
      "cell_type": "code",
      "execution_count": null,
      "metadata": {
        "colab": {
          "base_uri": "https://localhost:8080/",
          "height": 423
        },
        "id": "BwycqeqvoGRa",
        "outputId": "40bd2b19-1268-4a39-f463-170844e0a675"
      },
      "outputs": [
        {
          "output_type": "execute_result",
          "data": {
            "text/plain": [
              "      sentiment                                            content  \\\n",
              "0         anger                              fuckin'm transtelecom   \n",
              "1         anger                   Working   But it's Fridaaaayyyyy   \n",
              "2         anger                         Packing  I don't like it..   \n",
              "3         anger  I tried to dye my hair and all i got was a blo...   \n",
              "4         anger  &quot;locked up abroad&quot; makes bein half b...   \n",
              "...         ...                                                ...   \n",
              "39995     worry  tomorrow is going to be sooo awkward &amp; emb...   \n",
              "39996     worry  @icebergstorm hey! negative on the primatech, ...   \n",
              "39997     worry  @PH7S sure. But be careful also of making stat...   \n",
              "39998     worry                 How Do You Sleep - Jesse McCartney   \n",
              "39999     worry  @givemestrength bloody Feds, they lost last st...   \n",
              "\n",
              "                                             clean_tweet  \n",
              "0                                    fuckin transtelecom  \n",
              "1                                     work fridaaaayyyyy  \n",
              "2                                           pack nt like  \n",
              "3       tri dye hair got blond chunk front middl part...  \n",
              "4       quot lock abroad quot make bein half brown go...  \n",
              "...                                                  ...  \n",
              "39995   tomorrow go sooo awkward amp embarass light a...  \n",
              "39996   icebergstorm hey neg primatech handl tube dec...  \n",
              "39997   sure care also make statement nt parallel ide...  \n",
              "39998                               sleep jess mccartney  \n",
              "39999   givemestrength bloodi fed lost last statement...  \n",
              "\n",
              "[40000 rows x 3 columns]"
            ],
            "text/html": [
              "\n",
              "  <div id=\"df-ff37bbb3-ada2-4d8a-b93e-36d86195e5da\">\n",
              "    <div class=\"colab-df-container\">\n",
              "      <div>\n",
              "<style scoped>\n",
              "    .dataframe tbody tr th:only-of-type {\n",
              "        vertical-align: middle;\n",
              "    }\n",
              "\n",
              "    .dataframe tbody tr th {\n",
              "        vertical-align: top;\n",
              "    }\n",
              "\n",
              "    .dataframe thead th {\n",
              "        text-align: right;\n",
              "    }\n",
              "</style>\n",
              "<table border=\"1\" class=\"dataframe\">\n",
              "  <thead>\n",
              "    <tr style=\"text-align: right;\">\n",
              "      <th></th>\n",
              "      <th>sentiment</th>\n",
              "      <th>content</th>\n",
              "      <th>clean_tweet</th>\n",
              "    </tr>\n",
              "  </thead>\n",
              "  <tbody>\n",
              "    <tr>\n",
              "      <th>0</th>\n",
              "      <td>anger</td>\n",
              "      <td>fuckin'm transtelecom</td>\n",
              "      <td>fuckin transtelecom</td>\n",
              "    </tr>\n",
              "    <tr>\n",
              "      <th>1</th>\n",
              "      <td>anger</td>\n",
              "      <td>Working   But it's Fridaaaayyyyy</td>\n",
              "      <td>work fridaaaayyyyy</td>\n",
              "    </tr>\n",
              "    <tr>\n",
              "      <th>2</th>\n",
              "      <td>anger</td>\n",
              "      <td>Packing  I don't like it..</td>\n",
              "      <td>pack nt like</td>\n",
              "    </tr>\n",
              "    <tr>\n",
              "      <th>3</th>\n",
              "      <td>anger</td>\n",
              "      <td>I tried to dye my hair and all i got was a blo...</td>\n",
              "      <td>tri dye hair got blond chunk front middl part...</td>\n",
              "    </tr>\n",
              "    <tr>\n",
              "      <th>4</th>\n",
              "      <td>anger</td>\n",
              "      <td>&amp;quot;locked up abroad&amp;quot; makes bein half b...</td>\n",
              "      <td>quot lock abroad quot make bein half brown go...</td>\n",
              "    </tr>\n",
              "    <tr>\n",
              "      <th>...</th>\n",
              "      <td>...</td>\n",
              "      <td>...</td>\n",
              "      <td>...</td>\n",
              "    </tr>\n",
              "    <tr>\n",
              "      <th>39995</th>\n",
              "      <td>worry</td>\n",
              "      <td>tomorrow is going to be sooo awkward &amp;amp; emb...</td>\n",
              "      <td>tomorrow go sooo awkward amp embarass light a...</td>\n",
              "    </tr>\n",
              "    <tr>\n",
              "      <th>39996</th>\n",
              "      <td>worry</td>\n",
              "      <td>@icebergstorm hey! negative on the primatech, ...</td>\n",
              "      <td>icebergstorm hey neg primatech handl tube dec...</td>\n",
              "    </tr>\n",
              "    <tr>\n",
              "      <th>39997</th>\n",
              "      <td>worry</td>\n",
              "      <td>@PH7S sure. But be careful also of making stat...</td>\n",
              "      <td>sure care also make statement nt parallel ide...</td>\n",
              "    </tr>\n",
              "    <tr>\n",
              "      <th>39998</th>\n",
              "      <td>worry</td>\n",
              "      <td>How Do You Sleep - Jesse McCartney</td>\n",
              "      <td>sleep jess mccartney</td>\n",
              "    </tr>\n",
              "    <tr>\n",
              "      <th>39999</th>\n",
              "      <td>worry</td>\n",
              "      <td>@givemestrength bloody Feds, they lost last st...</td>\n",
              "      <td>givemestrength bloodi fed lost last statement...</td>\n",
              "    </tr>\n",
              "  </tbody>\n",
              "</table>\n",
              "<p>40000 rows × 3 columns</p>\n",
              "</div>\n",
              "      <button class=\"colab-df-convert\" onclick=\"convertToInteractive('df-ff37bbb3-ada2-4d8a-b93e-36d86195e5da')\"\n",
              "              title=\"Convert this dataframe to an interactive table.\"\n",
              "              style=\"display:none;\">\n",
              "        \n",
              "  <svg xmlns=\"http://www.w3.org/2000/svg\" height=\"24px\"viewBox=\"0 0 24 24\"\n",
              "       width=\"24px\">\n",
              "    <path d=\"M0 0h24v24H0V0z\" fill=\"none\"/>\n",
              "    <path d=\"M18.56 5.44l.94 2.06.94-2.06 2.06-.94-2.06-.94-.94-2.06-.94 2.06-2.06.94zm-11 1L8.5 8.5l.94-2.06 2.06-.94-2.06-.94L8.5 2.5l-.94 2.06-2.06.94zm10 10l.94 2.06.94-2.06 2.06-.94-2.06-.94-.94-2.06-.94 2.06-2.06.94z\"/><path d=\"M17.41 7.96l-1.37-1.37c-.4-.4-.92-.59-1.43-.59-.52 0-1.04.2-1.43.59L10.3 9.45l-7.72 7.72c-.78.78-.78 2.05 0 2.83L4 21.41c.39.39.9.59 1.41.59.51 0 1.02-.2 1.41-.59l7.78-7.78 2.81-2.81c.8-.78.8-2.07 0-2.86zM5.41 20L4 18.59l7.72-7.72 1.47 1.35L5.41 20z\"/>\n",
              "  </svg>\n",
              "      </button>\n",
              "      \n",
              "  <style>\n",
              "    .colab-df-container {\n",
              "      display:flex;\n",
              "      flex-wrap:wrap;\n",
              "      gap: 12px;\n",
              "    }\n",
              "\n",
              "    .colab-df-convert {\n",
              "      background-color: #E8F0FE;\n",
              "      border: none;\n",
              "      border-radius: 50%;\n",
              "      cursor: pointer;\n",
              "      display: none;\n",
              "      fill: #1967D2;\n",
              "      height: 32px;\n",
              "      padding: 0 0 0 0;\n",
              "      width: 32px;\n",
              "    }\n",
              "\n",
              "    .colab-df-convert:hover {\n",
              "      background-color: #E2EBFA;\n",
              "      box-shadow: 0px 1px 2px rgba(60, 64, 67, 0.3), 0px 1px 3px 1px rgba(60, 64, 67, 0.15);\n",
              "      fill: #174EA6;\n",
              "    }\n",
              "\n",
              "    [theme=dark] .colab-df-convert {\n",
              "      background-color: #3B4455;\n",
              "      fill: #D2E3FC;\n",
              "    }\n",
              "\n",
              "    [theme=dark] .colab-df-convert:hover {\n",
              "      background-color: #434B5C;\n",
              "      box-shadow: 0px 1px 3px 1px rgba(0, 0, 0, 0.15);\n",
              "      filter: drop-shadow(0px 1px 2px rgba(0, 0, 0, 0.3));\n",
              "      fill: #FFFFFF;\n",
              "    }\n",
              "  </style>\n",
              "\n",
              "      <script>\n",
              "        const buttonEl =\n",
              "          document.querySelector('#df-ff37bbb3-ada2-4d8a-b93e-36d86195e5da button.colab-df-convert');\n",
              "        buttonEl.style.display =\n",
              "          google.colab.kernel.accessAllowed ? 'block' : 'none';\n",
              "\n",
              "        async function convertToInteractive(key) {\n",
              "          const element = document.querySelector('#df-ff37bbb3-ada2-4d8a-b93e-36d86195e5da');\n",
              "          const dataTable =\n",
              "            await google.colab.kernel.invokeFunction('convertToInteractive',\n",
              "                                                     [key], {});\n",
              "          if (!dataTable) return;\n",
              "\n",
              "          const docLinkHtml = 'Like what you see? Visit the ' +\n",
              "            '<a target=\"_blank\" href=https://colab.research.google.com/notebooks/data_table.ipynb>data table notebook</a>'\n",
              "            + ' to learn more about interactive tables.';\n",
              "          element.innerHTML = '';\n",
              "          dataTable['output_type'] = 'display_data';\n",
              "          await google.colab.output.renderOutput(dataTable, element);\n",
              "          const docLink = document.createElement('div');\n",
              "          docLink.innerHTML = docLinkHtml;\n",
              "          element.appendChild(docLink);\n",
              "        }\n",
              "      </script>\n",
              "    </div>\n",
              "  </div>\n",
              "  "
            ]
          },
          "metadata": {},
          "execution_count": 40
        }
      ],
      "source": [
        "dflabelled"
      ]
    },
    {
      "cell_type": "markdown",
      "metadata": {
        "id": "f6jhplh6M09Z"
      },
      "source": [
        "texts_to_sequences Transforms each text in texts to a sequence of integers. So it basically takes each word in the text and replaces it with its corresponding integer value from the word_index dictionary. \n",
        "https://www.tensorflow.org/api_docs/python/tf/keras/preprocessing/text/Tokenizer "
      ]
    },
    {
      "cell_type": "code",
      "execution_count": null,
      "metadata": {
        "colab": {
          "base_uri": "https://localhost:8080/"
        },
        "id": "UB6y1BscqM0v",
        "outputId": "3ea30792-d3d8-43b9-f0fd-ad2a92b12d35"
      },
      "outputs": [
        {
          "output_type": "stream",
          "name": "stdout",
          "text": [
            "32\n"
          ]
        }
      ],
      "source": [
        "# tokenization\n",
        "max_words = 2000\n",
        "tokenizer = Tokenizer(num_words=max_words, split=' ')\n",
        "tokenizer.fit_on_texts(dflabelled['clean_tweet'].values)\n",
        "X = tokenizer.texts_to_sequences(dflabelled['clean_tweet'].values)\n",
        "X = pad_sequences(X, maxlen=32)\n",
        "print(X.shape[1])"
      ]
    },
    {
      "cell_type": "code",
      "execution_count": null,
      "metadata": {
        "colab": {
          "base_uri": "https://localhost:8080/"
        },
        "id": "Ix_qtLBWLnh-",
        "outputId": "9dd61213-6e5c-4e32-9cd8-565ac920ba61"
      },
      "outputs": [
        {
          "output_type": "execute_result",
          "data": {
            "text/plain": [
              "[[488, 12, 385]]"
            ]
          },
          "metadata": {},
          "execution_count": 42
        }
      ],
      "source": [
        "fisrt_sentence = tokenizer.texts_to_sequences(['At the point today where if someone says something remotely kind to me, a waterfall will burst out of my eyes'])\n",
        "fisrt_sentence"
      ]
    },
    {
      "cell_type": "code",
      "execution_count": null,
      "metadata": {
        "colab": {
          "base_uri": "https://localhost:8080/"
        },
        "id": "2IstBPdmMCwp",
        "outputId": "d112206e-cf1a-4e82-efad-1eca044429af"
      },
      "outputs": [
        {
          "output_type": "execute_result",
          "data": {
            "text/plain": [
              "[[488, 12, 167, 61, 134, 385, 372]]"
            ]
          },
          "metadata": {},
          "execution_count": 43
        }
      ],
      "source": [
        "fisrt_sentence_clean = tokenizer.texts_to_sequences(['point today someon say someth remot kind waterfal burst eye'])\n",
        "fisrt_sentence_clean"
      ]
    },
    {
      "cell_type": "code",
      "execution_count": null,
      "metadata": {
        "colab": {
          "base_uri": "https://localhost:8080/"
        },
        "id": "CVlUFJWw-GjG",
        "outputId": "693e4169-2921-46e6-c74d-2477a9db0975"
      },
      "outputs": [
        {
          "output_type": "execute_result",
          "data": {
            "text/plain": [
              "array([  0,   0,   0,   0,   0,   0,   0,   0,   0,   0,   0,   0,   0,\n",
              "         0,   0,   0,   0,   0,   0,   0,   0,   0,   0,   0, 202,  34,\n",
              "        47,  33,  72, 345, 366, 444], dtype=int32)"
            ]
          },
          "metadata": {},
          "execution_count": 16
        }
      ],
      "source": [
        "X[0]"
      ]
    },
    {
      "cell_type": "markdown",
      "metadata": {
        "id": "g5dHr7MB1I01"
      },
      "source": [
        "\n",
        "## Build LSTM"
      ]
    },
    {
      "cell_type": "code",
      "execution_count": null,
      "metadata": {
        "colab": {
          "base_uri": "https://localhost:8080/"
        },
        "id": "9_cgEU7foPgE",
        "outputId": "a7271430-e424-4b38-9d4a-fa1ca4f2b735"
      },
      "outputs": [
        {
          "output_type": "stream",
          "name": "stdout",
          "text": [
            "Model: \"sequential_5\"\n",
            "_________________________________________________________________\n",
            " Layer (type)                Output Shape              Param #   \n",
            "=================================================================\n",
            " embedding_5 (Embedding)     (None, 32, 256)           512000    \n",
            "                                                                 \n",
            " lstm_5 (LSTM)               (None, 257)               528392    \n",
            "                                                                 \n",
            " dense_5 (Dense)             (None, 13)                3354      \n",
            "                                                                 \n",
            "=================================================================\n",
            "Total params: 1,043,746\n",
            "Trainable params: 1,043,746\n",
            "Non-trainable params: 0\n",
            "_________________________________________________________________\n",
            "None\n"
          ]
        }
      ],
      "source": [
        "enbedding_out_dim = 256\n",
        "lstm_out_dim = 256\n",
        "\n",
        "model = Sequential()\n",
        "model.add(Embedding(max_words, enbedding_out_dim,input_length = X.shape[1]))\n",
        "model.add(LSTM(lstm_out_dim+1))\n",
        "model.add(Dense(13,activation='softmax'))\n",
        "model.compile(loss = 'categorical_crossentropy', optimizer='adam',metrics = ['accuracy'])\n",
        "print(model.summary())"
      ]
    },
    {
      "cell_type": "code",
      "execution_count": null,
      "metadata": {
        "colab": {
          "base_uri": "https://localhost:8080/"
        },
        "id": "6-U_RYNKqXiz",
        "outputId": "2c878529-2872-476d-e2ed-66d606810f9a"
      },
      "outputs": [
        {
          "output_type": "stream",
          "name": "stdout",
          "text": [
            "(32000, 32) (32000, 13)\n",
            "(8000, 32) (8000, 13)\n"
          ]
        }
      ],
      "source": [
        "# crete categorical variables \n",
        "dummies = pd.get_dummies(dflabelled['sentiment'])\n",
        "Y = dummies.values\n",
        "# train and test set \n",
        "#random state 50 ---> same train test split each time \n",
        "\n",
        "# shuffle??\n",
        "X_train, X_test, Y_train, Y_test = train_test_split(X,Y, test_size = 0.2, random_state = 50)\n",
        "print(X_train.shape,Y_train.shape)\n",
        "print(X_test.shape,Y_test.shape)"
      ]
    },
    {
      "cell_type": "code",
      "execution_count": null,
      "metadata": {
        "colab": {
          "base_uri": "https://localhost:8080/"
        },
        "id": "VoujRbDtqd1v",
        "outputId": "6e612e6d-8ddc-43ea-e286-8abb2147739d"
      },
      "outputs": [
        {
          "output_type": "stream",
          "name": "stdout",
          "text": [
            "Break at:  1116\n",
            "{'anger': 0, 'boredom': 1, 'empty': 2, 'enthusiasm': 3} {0: 'anger', 1: 'boredom', 2: 'empty', 3: 'enthusiasm'}\n"
          ]
        }
      ],
      "source": [
        "dict_emotion = {}\n",
        "dict_label = {}\n",
        "for i in range(len(Y)):\n",
        "    dict_emotion[dflabelled['sentiment'][i]] = np.argmax(Y[i])\n",
        "    dict_label[np.argmax(Y[i])] = dflabelled['sentiment'][i]\n",
        "    if len(dict_emotion) == 4:\n",
        "        print('Break at: ', i)\n",
        "        break\n",
        "\n",
        "print(dict_emotion, dict_label)"
      ]
    },
    {
      "cell_type": "code",
      "execution_count": null,
      "metadata": {
        "colab": {
          "base_uri": "https://localhost:8080/"
        },
        "id": "ZLx4tCvRqqmK",
        "outputId": "7d8b3cd7-27db-4802-8205-81d0f02f3424"
      },
      "outputs": [
        {
          "output_type": "execute_result",
          "data": {
            "text/plain": [
              "array([ 0,  0,  0,  0,  0,  0,  0,  0,  0,  0,  0,  0,  0,  0,  0,  0,  0,\n",
              "        0,  0,  0,  0,  0,  0,  0,  0,  0,  0,  0, 35, 85,  2, 12],\n",
              "      dtype=int32)"
            ]
          },
          "metadata": {},
          "execution_count": 65
        }
      ],
      "source": [
        "X_train[0]"
      ]
    },
    {
      "cell_type": "code",
      "execution_count": null,
      "metadata": {
        "colab": {
          "base_uri": "https://localhost:8080/"
        },
        "id": "KTQt5S6YuneG",
        "outputId": "19c86fae-373c-4bb9-df48-36cf8a023130"
      },
      "outputs": [
        {
          "output_type": "execute_result",
          "data": {
            "text/plain": [
              "array([   0,    0,    0,    0,    0,    0,    0,    0,    0,    0,    0,\n",
              "          0,    0,    0,    0,    0,    0,    0,    0,    0,    0,    0,\n",
              "          0,    0,    0,    0,    0,  154,  708,  189,   31, 1128],\n",
              "      dtype=int32)"
            ]
          },
          "metadata": {},
          "execution_count": 66
        }
      ],
      "source": [
        "X_train[3]"
      ]
    },
    {
      "cell_type": "code",
      "source": [
        "X_train, X_val, Y_train, Y_val = train_test_split(X_train,Y_train, test_size = 0.2, random_state = 50)\n"
      ],
      "metadata": {
        "id": "ECOR-nQpgptE"
      },
      "execution_count": null,
      "outputs": []
    },
    {
      "cell_type": "code",
      "source": [
        "print(X_train.shape,Y_train.shape)\n",
        "print(X_val.shape,Y_val.shape)"
      ],
      "metadata": {
        "colab": {
          "base_uri": "https://localhost:8080/"
        },
        "id": "2uWJMY0Jg7bD",
        "outputId": "318d30e1-edaf-4333-b2eb-12a0cc6075fd"
      },
      "execution_count": null,
      "outputs": [
        {
          "output_type": "stream",
          "name": "stdout",
          "text": [
            "(25600, 32) (25600, 13)\n",
            "(6400, 32) (6400, 13)\n"
          ]
        }
      ]
    },
    {
      "cell_type": "markdown",
      "metadata": {
        "id": "JhckB20b1WA2"
      },
      "source": [
        "## Train, Validate, Test"
      ]
    },
    {
      "cell_type": "code",
      "execution_count": null,
      "metadata": {
        "id": "wJgYJI_8u4FR",
        "colab": {
          "base_uri": "https://localhost:8080/"
        },
        "outputId": "6f57b1e3-b23f-4cac-f669-34f9254b73dd"
      },
      "outputs": [
        {
          "output_type": "stream",
          "name": "stdout",
          "text": [
            "Epoch 1/100\n",
            "50/50 [==============================] - 6s 65ms/step - loss: 2.1652 - accuracy: 0.2472 - val_loss: 2.0680 - val_accuracy: 0.2795\n",
            "Epoch 2/100\n",
            "50/50 [==============================] - 2s 50ms/step - loss: 1.9658 - accuracy: 0.3323 - val_loss: 1.9260 - val_accuracy: 0.3481\n",
            "Epoch 3/100\n",
            "50/50 [==============================] - 2s 50ms/step - loss: 1.8449 - accuracy: 0.3775 - val_loss: 1.9019 - val_accuracy: 0.3569\n",
            "Epoch 4/100\n",
            "50/50 [==============================] - 3s 52ms/step - loss: 1.7765 - accuracy: 0.4026 - val_loss: 1.9048 - val_accuracy: 0.3559\n",
            "Epoch 5/100\n",
            "50/50 [==============================] - 2s 49ms/step - loss: 1.7254 - accuracy: 0.4178 - val_loss: 1.9253 - val_accuracy: 0.3536\n",
            "Epoch 6/100\n",
            "50/50 [==============================] - 3s 52ms/step - loss: 1.6813 - accuracy: 0.4306 - val_loss: 1.9493 - val_accuracy: 0.3445\n",
            "Epoch 7/100\n",
            "50/50 [==============================] - 3s 52ms/step - loss: 1.6426 - accuracy: 0.4420 - val_loss: 1.9707 - val_accuracy: 0.3406\n",
            "Epoch 8/100\n",
            "50/50 [==============================] - 2s 50ms/step - loss: 1.6000 - accuracy: 0.4513 - val_loss: 1.9975 - val_accuracy: 0.3355\n",
            "Epoch 9/100\n",
            "50/50 [==============================] - 2s 49ms/step - loss: 1.5631 - accuracy: 0.4621 - val_loss: 2.0454 - val_accuracy: 0.3342\n",
            "Epoch 10/100\n",
            "50/50 [==============================] - 2s 49ms/step - loss: 1.5252 - accuracy: 0.4746 - val_loss: 2.0732 - val_accuracy: 0.3233\n",
            "Epoch 11/100\n",
            "50/50 [==============================] - 3s 53ms/step - loss: 1.4844 - accuracy: 0.4856 - val_loss: 2.1040 - val_accuracy: 0.3245\n",
            "Epoch 12/100\n",
            "50/50 [==============================] - 2s 50ms/step - loss: 1.4390 - accuracy: 0.4998 - val_loss: 2.2031 - val_accuracy: 0.3212\n",
            "Epoch 13/100\n",
            "50/50 [==============================] - 2s 50ms/step - loss: 1.3997 - accuracy: 0.5136 - val_loss: 2.2217 - val_accuracy: 0.3158\n",
            "Epoch 14/100\n",
            "50/50 [==============================] - 2s 50ms/step - loss: 1.3539 - accuracy: 0.5305 - val_loss: 2.3079 - val_accuracy: 0.3114\n",
            "Epoch 15/100\n",
            "50/50 [==============================] - 3s 50ms/step - loss: 1.3102 - accuracy: 0.5480 - val_loss: 2.3626 - val_accuracy: 0.3102\n",
            "Epoch 16/100\n",
            "50/50 [==============================] - 2s 50ms/step - loss: 1.2584 - accuracy: 0.5647 - val_loss: 2.4472 - val_accuracy: 0.3045\n",
            "Epoch 17/100\n",
            "50/50 [==============================] - 3s 50ms/step - loss: 1.2129 - accuracy: 0.5789 - val_loss: 2.5366 - val_accuracy: 0.3014\n",
            "Epoch 18/100\n",
            "50/50 [==============================] - 3s 53ms/step - loss: 1.1564 - accuracy: 0.6014 - val_loss: 2.6474 - val_accuracy: 0.2991\n",
            "Epoch 19/100\n",
            "50/50 [==============================] - 2s 50ms/step - loss: 1.1075 - accuracy: 0.6201 - val_loss: 2.8031 - val_accuracy: 0.2911\n",
            "Epoch 20/100\n",
            "50/50 [==============================] - 2s 50ms/step - loss: 1.0591 - accuracy: 0.6406 - val_loss: 2.8304 - val_accuracy: 0.2939\n",
            "Epoch 21/100\n",
            "50/50 [==============================] - 2s 50ms/step - loss: 1.0074 - accuracy: 0.6584 - val_loss: 2.9946 - val_accuracy: 0.2936\n",
            "Epoch 22/100\n",
            "50/50 [==============================] - 2s 50ms/step - loss: 0.9660 - accuracy: 0.6715 - val_loss: 3.1090 - val_accuracy: 0.2927\n",
            "Epoch 23/100\n",
            "50/50 [==============================] - 2s 50ms/step - loss: 0.9156 - accuracy: 0.6924 - val_loss: 3.1987 - val_accuracy: 0.2841\n",
            "Epoch 24/100\n",
            "50/50 [==============================] - 3s 50ms/step - loss: 0.8687 - accuracy: 0.7093 - val_loss: 3.3624 - val_accuracy: 0.2795\n",
            "Epoch 25/100\n",
            "50/50 [==============================] - 2s 50ms/step - loss: 0.8191 - accuracy: 0.7291 - val_loss: 3.4358 - val_accuracy: 0.2870\n",
            "Epoch 26/100\n",
            "50/50 [==============================] - 3s 50ms/step - loss: 0.7778 - accuracy: 0.7425 - val_loss: 3.6574 - val_accuracy: 0.2767\n",
            "Epoch 27/100\n",
            "50/50 [==============================] - 3s 53ms/step - loss: 0.7353 - accuracy: 0.7582 - val_loss: 3.6959 - val_accuracy: 0.2792\n",
            "Epoch 28/100\n",
            "50/50 [==============================] - 3s 50ms/step - loss: 0.7081 - accuracy: 0.7677 - val_loss: 3.7948 - val_accuracy: 0.2800\n",
            "Epoch 29/100\n",
            "50/50 [==============================] - 3s 50ms/step - loss: 0.6758 - accuracy: 0.7808 - val_loss: 3.9245 - val_accuracy: 0.2747\n",
            "Epoch 30/100\n",
            "50/50 [==============================] - 3s 53ms/step - loss: 0.6317 - accuracy: 0.7962 - val_loss: 4.1546 - val_accuracy: 0.2784\n",
            "Epoch 31/100\n",
            "50/50 [==============================] - 3s 50ms/step - loss: 0.5957 - accuracy: 0.8109 - val_loss: 4.3381 - val_accuracy: 0.2741\n",
            "Epoch 32/100\n",
            "50/50 [==============================] - 3s 50ms/step - loss: 0.5597 - accuracy: 0.8223 - val_loss: 4.3611 - val_accuracy: 0.2694\n",
            "Epoch 33/100\n",
            "50/50 [==============================] - 3s 50ms/step - loss: 0.5368 - accuracy: 0.8292 - val_loss: 4.6321 - val_accuracy: 0.2763\n",
            "Epoch 34/100\n",
            "50/50 [==============================] - 2s 50ms/step - loss: 0.5173 - accuracy: 0.8341 - val_loss: 4.7319 - val_accuracy: 0.2764\n",
            "Epoch 35/100\n",
            "50/50 [==============================] - 3s 50ms/step - loss: 0.4979 - accuracy: 0.8422 - val_loss: 4.7591 - val_accuracy: 0.2739\n",
            "Epoch 36/100\n",
            "50/50 [==============================] - 3s 52ms/step - loss: 0.4820 - accuracy: 0.8480 - val_loss: 4.9139 - val_accuracy: 0.2773\n",
            "Epoch 37/100\n",
            "50/50 [==============================] - 2s 50ms/step - loss: 0.4755 - accuracy: 0.8487 - val_loss: 4.8373 - val_accuracy: 0.2680\n",
            "Epoch 38/100\n",
            "50/50 [==============================] - 3s 50ms/step - loss: 0.4503 - accuracy: 0.8593 - val_loss: 5.1061 - val_accuracy: 0.2689\n",
            "Epoch 39/100\n",
            "50/50 [==============================] - 3s 51ms/step - loss: 0.4231 - accuracy: 0.8674 - val_loss: 5.2168 - val_accuracy: 0.2648\n",
            "Epoch 40/100\n",
            "50/50 [==============================] - 3s 50ms/step - loss: 0.3978 - accuracy: 0.8766 - val_loss: 5.3705 - val_accuracy: 0.2639\n",
            "Epoch 41/100\n",
            "50/50 [==============================] - 3s 50ms/step - loss: 0.3738 - accuracy: 0.8831 - val_loss: 5.4940 - val_accuracy: 0.2625\n",
            "Epoch 42/100\n",
            "50/50 [==============================] - 3s 50ms/step - loss: 0.3549 - accuracy: 0.8901 - val_loss: 5.7242 - val_accuracy: 0.2612\n",
            "Epoch 43/100\n",
            "50/50 [==============================] - 3s 50ms/step - loss: 0.3436 - accuracy: 0.8942 - val_loss: 5.7684 - val_accuracy: 0.2580\n",
            "Epoch 44/100\n",
            "50/50 [==============================] - 3s 50ms/step - loss: 0.3326 - accuracy: 0.8977 - val_loss: 5.8974 - val_accuracy: 0.2578\n",
            "Epoch 45/100\n",
            "50/50 [==============================] - 3s 53ms/step - loss: 0.3250 - accuracy: 0.8994 - val_loss: 5.9327 - val_accuracy: 0.2608\n",
            "Epoch 46/100\n",
            "50/50 [==============================] - 3s 50ms/step - loss: 0.3144 - accuracy: 0.9033 - val_loss: 6.0103 - val_accuracy: 0.2566\n",
            "Epoch 47/100\n",
            "50/50 [==============================] - 3s 53ms/step - loss: 0.3097 - accuracy: 0.9044 - val_loss: 6.1261 - val_accuracy: 0.2539\n",
            "Epoch 48/100\n",
            "50/50 [==============================] - 3s 50ms/step - loss: 0.3295 - accuracy: 0.8972 - val_loss: 5.9657 - val_accuracy: 0.2562\n",
            "Epoch 49/100\n",
            "50/50 [==============================] - 3s 53ms/step - loss: 0.3232 - accuracy: 0.8978 - val_loss: 6.1207 - val_accuracy: 0.2594\n",
            "Epoch 50/100\n",
            "50/50 [==============================] - 3s 50ms/step - loss: 0.3119 - accuracy: 0.9034 - val_loss: 6.1489 - val_accuracy: 0.2602\n",
            "Epoch 51/100\n",
            "50/50 [==============================] - 3s 50ms/step - loss: 0.2892 - accuracy: 0.9104 - val_loss: 6.2871 - val_accuracy: 0.2587\n",
            "Epoch 52/100\n",
            "50/50 [==============================] - 3s 52ms/step - loss: 0.2735 - accuracy: 0.9158 - val_loss: 6.2532 - val_accuracy: 0.2569\n",
            "Epoch 53/100\n",
            "50/50 [==============================] - 3s 50ms/step - loss: 0.2594 - accuracy: 0.9202 - val_loss: 6.4716 - val_accuracy: 0.2559\n",
            "Epoch 54/100\n",
            "50/50 [==============================] - 3s 50ms/step - loss: 0.2489 - accuracy: 0.9250 - val_loss: 6.5752 - val_accuracy: 0.2545\n",
            "Epoch 55/100\n",
            "50/50 [==============================] - 3s 51ms/step - loss: 0.2348 - accuracy: 0.9277 - val_loss: 6.7506 - val_accuracy: 0.2564\n",
            "Epoch 56/100\n",
            "50/50 [==============================] - 3s 53ms/step - loss: 0.2251 - accuracy: 0.9303 - val_loss: 6.7820 - val_accuracy: 0.2534\n",
            "Epoch 57/100\n",
            "50/50 [==============================] - 3s 50ms/step - loss: 0.2152 - accuracy: 0.9332 - val_loss: 6.8762 - val_accuracy: 0.2566\n",
            "Epoch 58/100\n",
            "50/50 [==============================] - 3s 50ms/step - loss: 0.2100 - accuracy: 0.9346 - val_loss: 7.0204 - val_accuracy: 0.2586\n",
            "Epoch 59/100\n",
            "50/50 [==============================] - 3s 50ms/step - loss: 0.2047 - accuracy: 0.9361 - val_loss: 7.0861 - val_accuracy: 0.2555\n",
            "Epoch 60/100\n",
            "50/50 [==============================] - 2s 50ms/step - loss: 0.2014 - accuracy: 0.9372 - val_loss: 7.0948 - val_accuracy: 0.2566\n",
            "Epoch 61/100\n",
            "50/50 [==============================] - 3s 50ms/step - loss: 0.1975 - accuracy: 0.9384 - val_loss: 7.2612 - val_accuracy: 0.2558\n",
            "Epoch 62/100\n",
            "50/50 [==============================] - 2s 50ms/step - loss: 0.1944 - accuracy: 0.9399 - val_loss: 7.2562 - val_accuracy: 0.2570\n",
            "Epoch 63/100\n",
            "50/50 [==============================] - 2s 50ms/step - loss: 0.1965 - accuracy: 0.9388 - val_loss: 7.2380 - val_accuracy: 0.2591\n",
            "Epoch 64/100\n",
            "50/50 [==============================] - 3s 50ms/step - loss: 0.1982 - accuracy: 0.9391 - val_loss: 7.3806 - val_accuracy: 0.2627\n",
            "Epoch 65/100\n",
            "50/50 [==============================] - 3s 53ms/step - loss: 0.2348 - accuracy: 0.9277 - val_loss: 7.0795 - val_accuracy: 0.2511\n",
            "Epoch 66/100\n",
            "50/50 [==============================] - 3s 50ms/step - loss: 0.2704 - accuracy: 0.9143 - val_loss: 7.0063 - val_accuracy: 0.2553\n",
            "Epoch 67/100\n",
            "50/50 [==============================] - 3s 50ms/step - loss: 0.2539 - accuracy: 0.9201 - val_loss: 6.9611 - val_accuracy: 0.2602\n",
            "Epoch 68/100\n",
            "50/50 [==============================] - 3s 51ms/step - loss: 0.2252 - accuracy: 0.9300 - val_loss: 7.0413 - val_accuracy: 0.2494\n",
            "Epoch 69/100\n",
            "50/50 [==============================] - 2s 50ms/step - loss: 0.2012 - accuracy: 0.9376 - val_loss: 7.1598 - val_accuracy: 0.2584\n",
            "Epoch 70/100\n",
            "50/50 [==============================] - 3s 51ms/step - loss: 0.1831 - accuracy: 0.9424 - val_loss: 7.2961 - val_accuracy: 0.2583\n",
            "Epoch 71/100\n",
            "50/50 [==============================] - 3s 50ms/step - loss: 0.1734 - accuracy: 0.9454 - val_loss: 7.4212 - val_accuracy: 0.2609\n",
            "Epoch 72/100\n",
            "50/50 [==============================] - 3s 53ms/step - loss: 0.1658 - accuracy: 0.9463 - val_loss: 7.3894 - val_accuracy: 0.2597\n",
            "Epoch 73/100\n",
            "50/50 [==============================] - 3s 53ms/step - loss: 0.1612 - accuracy: 0.9477 - val_loss: 7.6005 - val_accuracy: 0.2584\n",
            "Epoch 74/100\n",
            "50/50 [==============================] - 3s 53ms/step - loss: 0.1580 - accuracy: 0.9473 - val_loss: 7.7077 - val_accuracy: 0.2572\n",
            "Epoch 75/100\n",
            "50/50 [==============================] - 3s 50ms/step - loss: 0.1553 - accuracy: 0.9486 - val_loss: 7.6759 - val_accuracy: 0.2570\n",
            "Epoch 76/100\n",
            "50/50 [==============================] - 3s 53ms/step - loss: 0.1522 - accuracy: 0.9497 - val_loss: 7.7563 - val_accuracy: 0.2598\n",
            "Epoch 77/100\n",
            "50/50 [==============================] - 3s 53ms/step - loss: 0.1504 - accuracy: 0.9493 - val_loss: 7.8428 - val_accuracy: 0.2567\n",
            "Epoch 78/100\n",
            "50/50 [==============================] - 3s 51ms/step - loss: 0.1485 - accuracy: 0.9502 - val_loss: 7.9280 - val_accuracy: 0.2597\n",
            "Epoch 79/100\n",
            "50/50 [==============================] - 3s 51ms/step - loss: 0.1459 - accuracy: 0.9504 - val_loss: 7.8701 - val_accuracy: 0.2559\n",
            "Epoch 80/100\n",
            "50/50 [==============================] - 2s 50ms/step - loss: 0.1447 - accuracy: 0.9508 - val_loss: 7.9968 - val_accuracy: 0.2586\n",
            "Epoch 81/100\n",
            "50/50 [==============================] - 2s 50ms/step - loss: 0.1430 - accuracy: 0.9520 - val_loss: 8.0432 - val_accuracy: 0.2506\n",
            "Epoch 82/100\n",
            "50/50 [==============================] - 3s 53ms/step - loss: 0.1420 - accuracy: 0.9513 - val_loss: 8.1366 - val_accuracy: 0.2534\n",
            "Epoch 83/100\n",
            "50/50 [==============================] - 3s 50ms/step - loss: 0.1392 - accuracy: 0.9524 - val_loss: 8.2141 - val_accuracy: 0.2584\n",
            "Epoch 84/100\n",
            "50/50 [==============================] - 2s 50ms/step - loss: 0.1382 - accuracy: 0.9527 - val_loss: 8.1942 - val_accuracy: 0.2547\n",
            "Epoch 85/100\n",
            "50/50 [==============================] - 3s 51ms/step - loss: 0.1371 - accuracy: 0.9532 - val_loss: 8.1311 - val_accuracy: 0.2553\n",
            "Epoch 86/100\n",
            "50/50 [==============================] - 3s 51ms/step - loss: 0.1361 - accuracy: 0.9524 - val_loss: 8.3219 - val_accuracy: 0.2578\n",
            "Epoch 87/100\n",
            "50/50 [==============================] - 3s 51ms/step - loss: 0.1351 - accuracy: 0.9523 - val_loss: 8.2864 - val_accuracy: 0.2580\n",
            "Epoch 88/100\n",
            "50/50 [==============================] - 2s 50ms/step - loss: 0.1346 - accuracy: 0.9534 - val_loss: 8.3511 - val_accuracy: 0.2567\n",
            "Epoch 89/100\n",
            "50/50 [==============================] - 3s 53ms/step - loss: 0.1327 - accuracy: 0.9529 - val_loss: 8.3717 - val_accuracy: 0.2562\n",
            "Epoch 90/100\n",
            "50/50 [==============================] - 3s 50ms/step - loss: 0.1334 - accuracy: 0.9527 - val_loss: 8.3901 - val_accuracy: 0.2544\n",
            "Epoch 91/100\n",
            "50/50 [==============================] - 3s 53ms/step - loss: 0.1349 - accuracy: 0.9527 - val_loss: 8.3824 - val_accuracy: 0.2594\n",
            "Epoch 92/100\n",
            "50/50 [==============================] - 3s 50ms/step - loss: 0.1857 - accuracy: 0.9371 - val_loss: 8.0827 - val_accuracy: 0.2525\n",
            "Epoch 93/100\n",
            "50/50 [==============================] - 3s 50ms/step - loss: 0.2939 - accuracy: 0.9073 - val_loss: 7.4437 - val_accuracy: 0.2480\n",
            "Epoch 94/100\n",
            "50/50 [==============================] - 3s 50ms/step - loss: 0.2564 - accuracy: 0.9143 - val_loss: 7.4013 - val_accuracy: 0.2559\n",
            "Epoch 95/100\n",
            "50/50 [==============================] - 3s 50ms/step - loss: 0.1879 - accuracy: 0.9394 - val_loss: 7.5886 - val_accuracy: 0.2602\n",
            "Epoch 96/100\n",
            "50/50 [==============================] - 3s 50ms/step - loss: 0.1527 - accuracy: 0.9498 - val_loss: 7.7867 - val_accuracy: 0.2597\n",
            "Epoch 97/100\n",
            "50/50 [==============================] - 2s 50ms/step - loss: 0.1393 - accuracy: 0.9537 - val_loss: 7.8676 - val_accuracy: 0.2606\n",
            "Epoch 98/100\n",
            "50/50 [==============================] - 3s 50ms/step - loss: 0.1329 - accuracy: 0.9539 - val_loss: 7.9384 - val_accuracy: 0.2550\n",
            "Epoch 99/100\n",
            "50/50 [==============================] - 3s 53ms/step - loss: 0.1292 - accuracy: 0.9549 - val_loss: 8.0117 - val_accuracy: 0.2547\n",
            "Epoch 100/100\n",
            "50/50 [==============================] - 2s 50ms/step - loss: 0.1264 - accuracy: 0.9548 - val_loss: 8.0672 - val_accuracy: 0.2581\n"
          ]
        }
      ],
      "source": [
        "# train the net\n",
        "### reduce the epocs this is mad\n",
        "batch_size = 512\n",
        "history = model.fit(X_train,Y_train, \n",
        "                    epochs = 100, \n",
        "                    batch_size=batch_size,\n",
        "                    validation_data=(X_val, Y_val))"
      ]
    },
    {
      "cell_type": "code",
      "execution_count": null,
      "metadata": {
        "colab": {
          "base_uri": "https://localhost:8080/",
          "height": 295
        },
        "id": "tm9aCIm-Qqzr",
        "outputId": "68ca9788-a1b2-420d-f710-f3142493b124"
      },
      "outputs": [
        {
          "output_type": "display_data",
          "data": {
            "text/plain": [
              "<Figure size 432x288 with 1 Axes>"
            ],
            "image/png": "[encoded data removed]"
          },
          "metadata": {
            "needs_background": "light"
          }
        }
      ],
      "source": [
        "import matplotlib.pyplot as plt\n",
        "\n",
        "loss = history.history['loss']\n",
        "val_loss = history.history['val_loss']\n",
        "epochs = range(1, len(loss) + 1)\n",
        "plt.plot(epochs, loss, 'r', label='Training loss')\n",
        "plt.plot(epochs, val_loss, 'b', label='Validation loss')\n",
        "plt.title('Training and validation loss')\n",
        "plt.xlabel('Epochs')\n",
        "plt.ylabel('Loss')\n",
        "plt.legend()\n",
        "plt.show()"
      ]
    },
    {
      "cell_type": "code",
      "execution_count": null,
      "metadata": {
        "id": "P28g1LpISghn"
      },
      "outputs": [],
      "source": [
        "# validation\n",
        "total, correct, false = 0, 0, 0\n",
        "\n",
        "for x in range(len(X_val)):\n",
        "    total += 1\n",
        "\n",
        "\n",
        "    result = model.predict(X_val[x].reshape(1, X_test.shape[1]), batch_size=1)[0]\n",
        "\n",
        "\n",
        "    if np.argmax(result) == np.argmax(Y_val[x]):\n",
        "        correct += 1\n",
        "\n",
        "    else:\n",
        "        false += 1\n",
        "print(\"accuracy\", correct / total * 100, \"%\")\n"
      ]
    },
    {
      "cell_type": "code",
      "execution_count": null,
      "metadata": {
        "colab": {
          "base_uri": "https://localhost:8080/"
        },
        "id": "xjBMJL6WyzpF",
        "outputId": "aadca564-70c3-4bf6-c7a0-60f820298ff3"
      },
      "outputs": [
        {
          "output_type": "stream",
          "name": "stdout",
          "text": [
            "accuracy 25.4 %\n"
          ]
        }
      ],
      "source": [
        "# test\n",
        "total, correct, false = 0, 0, 0\n",
        "\n",
        "for x in range(len(X_test)):\n",
        "    total += 1\n",
        "\n",
        "\n",
        "    result = model.predict(X_test[x].reshape(1, X_test.shape[1]), batch_size=1)[0]\n",
        "\n",
        "\n",
        "    if np.argmax(result) == np.argmax(Y_test[x]):\n",
        "        correct += 1\n",
        "\n",
        "    else:\n",
        "        false += 1\n",
        "print(\"accuracy\", correct / total * 100, \"%\")"
      ]
    },
    {
      "cell_type": "code",
      "execution_count": null,
      "metadata": {
        "colab": {
          "base_uri": "https://localhost:8080/"
        },
        "id": "sRaItlNH3Ip2",
        "outputId": "f518021e-9797-40d4-d3f0-c06700e71f3e"
      },
      "outputs": [
        {
          "output_type": "execute_result",
          "data": {
            "text/plain": [
              "array([4.4001204e-08, 3.1782044e-08, 9.9999988e-01, 1.8111351e-08],\n",
              "      dtype=float32)"
            ]
          },
          "metadata": {},
          "execution_count": 103
        }
      ],
      "source": [
        "result"
      ]
    },
    {
      "cell_type": "code",
      "execution_count": null,
      "metadata": {
        "colab": {
          "base_uri": "https://localhost:8080/"
        },
        "id": "D_cDfWLS3SRr",
        "outputId": "4134a5c5-3579-4158-99b5-3996d9c004f3"
      },
      "outputs": [
        {
          "output_type": "execute_result",
          "data": {
            "text/plain": [
              "array([0, 0, 1, 0], dtype=uint8)"
            ]
          },
          "metadata": {},
          "execution_count": 104
        }
      ],
      "source": [
        "Y_test[x]"
      ]
    },
    {
      "cell_type": "markdown",
      "metadata": {
        "id": "Ow9kFY2H1Z_p"
      },
      "source": [
        "## Predict Senitment of Video Titles"
      ]
    },
    {
      "cell_type": "code",
      "source": [
        "features.title"
      ],
      "metadata": {
        "colab": {
          "base_uri": "https://localhost:8080/"
        },
        "id": "MCtYD96C2x9A",
        "outputId": "7b6ee1e5-bbf5-4838-8146-8023fcafb7fe"
      },
      "execution_count": null,
      "outputs": [
        {
          "output_type": "execute_result",
          "data": {
            "text/plain": [
              "0            John Lewis Christmas Ad 2017 - #MozTheMonster\n",
              "1                Taylor Swift: …Ready for It? (Live) - SNL\n",
              "2               Eminem - Walk On Water (Audio) ft. Beyoncé\n",
              "3        Goals from Salford City vs Class of 92 and Fri...\n",
              "4        Dashcam captures truck's near miss with child ...\n",
              "                               ...                        \n",
              "38911    Enrique Iglesias - MOVE TO MIAMI (Official Vid...\n",
              "38912    Jacob Sartorius - Up With It (Official Music V...\n",
              "38913                   Anne-Marie - 2002 [Official Video]\n",
              "38914    Eleni Foureira - Fuego - Cyprus - LIVE - First...\n",
              "38915    KYLE - Ikuyo feat.  2 Chainz & Sophia Black [A...\n",
              "Name: title, Length: 38916, dtype: object"
            ]
          },
          "metadata": {},
          "execution_count": 119
        }
      ]
    },
    {
      "cell_type": "code",
      "execution_count": null,
      "metadata": {
        "id": "qBOQ6NKk32Y8"
      },
      "outputs": [],
      "source": [
        "# subset = title.head(38916)"
      ]
    },
    {
      "cell_type": "code",
      "execution_count": null,
      "metadata": {
        "colab": {
          "base_uri": "https://localhost:8080/"
        },
        "id": "PKD7sE87OH9N",
        "outputId": "1a8d864f-86df-4081-feb8-814d20588776"
      },
      "outputs": [
        {
          "output_type": "stream",
          "name": "stdout",
          "text": [
            "Clean data created\n"
          ]
        }
      ],
      "source": [
        "#data cleaning\n",
        "clean_data = []\n",
        "\n",
        "# start cleaning data\n",
        "for text in features['title']:\n",
        "    tokens = word_tokenize(text) # split the tokens\n",
        "    tokens = [w.lower() for w in tokens] # convert to lower case\n",
        "\n",
        "    import string\n",
        "    table = str.maketrans('', '', string.punctuation)\n",
        "    stripped = [w.translate(table) for w in tokens]\n",
        "    words = [word for word in stripped if word.isalpha()] # filter all the punciations\n",
        "\n",
        "    \n",
        "    # filtering stop words\n",
        "    from nltk.corpus import stopwords\n",
        "    stop_words = stopwords.words('english')\n",
        "\n",
        "    words = [w for w in words if not w in stop_words]\n",
        "\n",
        "    # stemming of words\n",
        "    from nltk.stem.porter import PorterStemmer\n",
        "    porter = PorterStemmer()\n",
        "    stemmed_words = [porter.stem(word) for word in words]\n",
        "\n",
        "    clean_text = ''\n",
        "    for w in stemmed_words:\n",
        "        clean_text += ' ' + w\n",
        "    clean_data.append(clean_text)\n",
        "\n",
        "print('Clean data created')\n",
        "features['clean_title'] = clean_data"
      ]
    },
    {
      "cell_type": "code",
      "execution_count": null,
      "metadata": {
        "colab": {
          "base_uri": "https://localhost:8080/"
        },
        "id": "V_lj7uYrO-8k",
        "outputId": "9305a939-aa47-46da-8b47-dee7e5a8cb65"
      },
      "outputs": [
        {
          "output_type": "stream",
          "name": "stdout",
          "text": [
            "32\n"
          ]
        }
      ],
      "source": [
        "# tokenization\n",
        "max_words = 2000\n",
        "tokenizer = Tokenizer(num_words=max_words, split=' ')\n",
        "tokenizer.fit_on_texts(features['clean_title'].values)\n",
        "VidTitle = tokenizer.texts_to_sequences(features['clean_title'].values)\n",
        "VidTitle = pad_sequences(VidTitle, maxlen=32)\n",
        "print(VidTitle.shape[1])"
      ]
    },
    {
      "cell_type": "code",
      "execution_count": null,
      "metadata": {
        "id": "niAxiCukPGf6",
        "colab": {
          "base_uri": "https://localhost:8080/"
        },
        "outputId": "629e60a3-67ca-49e7-cb14-512f366fbe6e"
      },
      "outputs": [
        {
          "output_type": "stream",
          "name": "stdout",
          "text": [
            "iteration complete:  1\n",
            "iteration complete:  501\n",
            "iteration complete:  1001\n",
            "iteration complete:  1501\n",
            "iteration complete:  2001\n",
            "iteration complete:  2501\n",
            "iteration complete:  3001\n",
            "iteration complete:  3501\n",
            "iteration complete:  4001\n",
            "iteration complete:  4501\n",
            "iteration complete:  5001\n",
            "iteration complete:  5501\n",
            "iteration complete:  6001\n",
            "iteration complete:  6501\n",
            "iteration complete:  7001\n",
            "iteration complete:  7501\n",
            "iteration complete:  8001\n",
            "iteration complete:  8501\n",
            "iteration complete:  9001\n",
            "iteration complete:  9501\n",
            "iteration complete:  10001\n",
            "iteration complete:  10501\n",
            "iteration complete:  11001\n",
            "iteration complete:  11501\n",
            "iteration complete:  12001\n",
            "iteration complete:  12501\n",
            "iteration complete:  13001\n",
            "iteration complete:  13501\n",
            "iteration complete:  14001\n",
            "iteration complete:  14501\n",
            "iteration complete:  15001\n",
            "iteration complete:  15501\n",
            "iteration complete:  16001\n",
            "iteration complete:  16501\n",
            "iteration complete:  17001\n",
            "iteration complete:  17501\n",
            "iteration complete:  18001\n",
            "iteration complete:  18501\n",
            "iteration complete:  19001\n",
            "iteration complete:  19501\n",
            "iteration complete:  20001\n",
            "iteration complete:  20501\n",
            "iteration complete:  21001\n",
            "iteration complete:  21501\n",
            "iteration complete:  22001\n",
            "iteration complete:  22501\n",
            "iteration complete:  23001\n",
            "iteration complete:  23501\n",
            "iteration complete:  24001\n",
            "iteration complete:  24501\n",
            "iteration complete:  25001\n",
            "iteration complete:  25501\n",
            "iteration complete:  26001\n",
            "iteration complete:  26501\n",
            "iteration complete:  27001\n",
            "iteration complete:  27501\n",
            "iteration complete:  28001\n",
            "iteration complete:  28501\n",
            "iteration complete:  29001\n",
            "iteration complete:  29501\n",
            "iteration complete:  30001\n",
            "iteration complete:  30501\n",
            "iteration complete:  31001\n",
            "iteration complete:  31501\n",
            "iteration complete:  32001\n",
            "iteration complete:  32501\n",
            "iteration complete:  33001\n",
            "iteration complete:  33501\n",
            "iteration complete:  34001\n",
            "iteration complete:  34501\n",
            "iteration complete:  35001\n",
            "iteration complete:  35501\n",
            "iteration complete:  36001\n",
            "iteration complete:  36501\n",
            "iteration complete:  37001\n",
            "iteration complete:  37501\n",
            "iteration complete:  38001\n",
            "iteration complete:  38501\n"
          ]
        }
      ],
      "source": [
        "# predict\n",
        "Video_Emotion = []\n",
        "for x in range(len(VidTitle)):\n",
        "    result = model.predict(VidTitle[x].reshape(1, X_test.shape[1]), batch_size=1)[0]\n",
        "    Video_Emotion.append(np.argmax(result))\n",
        "    if x%500 == 0:\n",
        "      print('iteration complete: ', x+1)\n"
      ]
    },
    {
      "cell_type": "markdown",
      "metadata": {
        "id": "jRmAxzYF7pWS"
      },
      "source": [
        "\n",
        "\n",
        "*   0- anger\n",
        "\n",
        "* 1- fear\n",
        "* 2- joy\n",
        "* 3- sadness\n"
      ]
    },
    {
      "cell_type": "code",
      "execution_count": null,
      "metadata": {
        "colab": {
          "base_uri": "https://localhost:8080/",
          "height": 35
        },
        "id": "4ufoFogC7d4x",
        "outputId": "638b6c0a-5b58-4b11-ceb5-20d00c23bc53"
      },
      "outputs": [
        {
          "output_type": "execute_result",
          "data": {
            "text/plain": [
              "\"Ellen Makes 'Friends' with BTS!\""
            ],
            "application/vnd.google.colaboratory.intrinsic+json": {
              "type": "string"
            }
          },
          "metadata": {},
          "execution_count": 147
        }
      ],
      "source": [
        "features['title'][3009]"
      ]
    },
    {
      "cell_type": "code",
      "execution_count": null,
      "metadata": {
        "colab": {
          "base_uri": "https://localhost:8080/"
        },
        "id": "-s7Euwzn5SWd",
        "outputId": "72ada8dd-11d4-472b-aaf1-704c80666921"
      },
      "outputs": [
        {
          "output_type": "execute_result",
          "data": {
            "text/plain": [
              "1"
            ]
          },
          "metadata": {},
          "execution_count": 148
        }
      ],
      "source": [
        "Video_Emotion[3009]"
      ]
    },
    {
      "cell_type": "code",
      "execution_count": null,
      "metadata": {
        "id": "mZfoinbf9gql"
      },
      "outputs": [],
      "source": [
        "features['Title_emotion'] = Video_Emotion"
      ]
    },
    {
      "cell_type": "code",
      "execution_count": null,
      "metadata": {
        "id": "D9TphhzqBjz-"
      },
      "outputs": [],
      "source": [
        "features.to_csv('/content/drive/Shareddrives/NEURALNETS/features.csv')"
      ]
    },
    {
      "cell_type": "code",
      "execution_count": null,
      "metadata": {
        "id": "AWTsPfVVCF4v"
      },
      "outputs": [],
      "source": [
        "testload = pd.read_csv('/content/drive/Shareddrives/NEURALNETS/features.csv')"
      ]
    },
    {
      "cell_type": "markdown",
      "metadata": {
        "id": "Rvq3Wcahffl7"
      },
      "source": [
        "# LSTM - View Prediction"
      ]
    },
    {
      "cell_type": "code",
      "execution_count": null,
      "metadata": {
        "colab": {
          "base_uri": "https://localhost:8080/",
          "height": 542
        },
        "id": "DRe8tAxvCNxs",
        "outputId": "4775676a-5397-42f5-f18e-5a963c2c691a"
      },
      "outputs": [
        {
          "output_type": "execute_result",
          "data": {
            "text/plain": [
              "   Unnamed: 0     views                                              title  \\\n",
              "0           0  1.017015      John Lewis Christmas Ad 2017 - #MozTheMonster   \n",
              "1           1  1.002480          Taylor Swift: …Ready for It? (Live) - SNL   \n",
              "2           2  1.040415         Eminem - Walk On Water (Audio) ft. Beyoncé   \n",
              "3           3  1.000064  Goals from Salford City vs Class of 92 and Fri...   \n",
              "4           4  1.000021  Dashcam captures truck's near miss with child ...   \n",
              "\n",
              "   day_of_year      hour    minute    second  weekday_Friday  weekday_Monday  \\\n",
              "0     1.859890  1.304348  1.644068  1.491525             2.0             1.0   \n",
              "1     1.865385  1.260870  1.406780  1.745763             1.0             1.0   \n",
              "2     1.859890  1.739130  1.000000  1.050847             2.0             1.0   \n",
              "3     1.868132  1.086957  1.508475  1.644068             1.0             2.0   \n",
              "4     1.868132  1.043478  1.762712  1.220339             1.0             2.0   \n",
              "\n",
              "   weekday_Saturday  ...  category_id_24  category_id_25  category_id_26  \\\n",
              "0               1.0  ...             1.0             1.0             2.0   \n",
              "1               1.0  ...             2.0             1.0             1.0   \n",
              "2               1.0  ...             1.0             1.0             1.0   \n",
              "3               1.0  ...             1.0             1.0             1.0   \n",
              "4               1.0  ...             1.0             2.0             1.0   \n",
              "\n",
              "   category_id_27  category_id_28  category_id_29  category_id_43  title_len  \\\n",
              "0             1.0             1.0             1.0             1.0   1.414894   \n",
              "1             1.0             1.0             1.0             1.0   1.372340   \n",
              "2             1.0             1.0             1.0             1.0   1.382979   \n",
              "3             1.0             1.0             1.0             1.0   1.744681   \n",
              "4             1.0             1.0             1.0             1.0   1.521277   \n",
              "\n",
              "                                         clean_title  Title_emotion  \n",
              "0                  john lewi christma ad mozthemonst              2  \n",
              "1                              taylor swift live snl              1  \n",
              "2                 eminem walk water audio ft beyoncé              1  \n",
              "3   goal salford citi vs class friend peninsula s...              0  \n",
              "4        dashcam captur truck near miss child norway              2  \n",
              "\n",
              "[5 rows x 33 columns]"
            ],
            "text/html": [
              "\n",
              "  <div id=\"df-b882cace-022c-4ee7-b7da-f3386392adae\">\n",
              "    <div class=\"colab-df-container\">\n",
              "      <div>\n",
              "<style scoped>\n",
              "    .dataframe tbody tr th:only-of-type {\n",
              "        vertical-align: middle;\n",
              "    }\n",
              "\n",
              "    .dataframe tbody tr th {\n",
              "        vertical-align: top;\n",
              "    }\n",
              "\n",
              "    .dataframe thead th {\n",
              "        text-align: right;\n",
              "    }\n",
              "</style>\n",
              "<table border=\"1\" class=\"dataframe\">\n",
              "  <thead>\n",
              "    <tr style=\"text-align: right;\">\n",
              "      <th></th>\n",
              "      <th>Unnamed: 0</th>\n",
              "      <th>views</th>\n",
              "      <th>title</th>\n",
              "      <th>day_of_year</th>\n",
              "      <th>hour</th>\n",
              "      <th>minute</th>\n",
              "      <th>second</th>\n",
              "      <th>weekday_Friday</th>\n",
              "      <th>weekday_Monday</th>\n",
              "      <th>weekday_Saturday</th>\n",
              "      <th>...</th>\n",
              "      <th>category_id_24</th>\n",
              "      <th>category_id_25</th>\n",
              "      <th>category_id_26</th>\n",
              "      <th>category_id_27</th>\n",
              "      <th>category_id_28</th>\n",
              "      <th>category_id_29</th>\n",
              "      <th>category_id_43</th>\n",
              "      <th>title_len</th>\n",
              "      <th>clean_title</th>\n",
              "      <th>Title_emotion</th>\n",
              "    </tr>\n",
              "  </thead>\n",
              "  <tbody>\n",
              "    <tr>\n",
              "      <th>0</th>\n",
              "      <td>0</td>\n",
              "      <td>1.017015</td>\n",
              "      <td>John Lewis Christmas Ad 2017 - #MozTheMonster</td>\n",
              "      <td>1.859890</td>\n",
              "      <td>1.304348</td>\n",
              "      <td>1.644068</td>\n",
              "      <td>1.491525</td>\n",
              "      <td>2.0</td>\n",
              "      <td>1.0</td>\n",
              "      <td>1.0</td>\n",
              "      <td>...</td>\n",
              "      <td>1.0</td>\n",
              "      <td>1.0</td>\n",
              "      <td>2.0</td>\n",
              "      <td>1.0</td>\n",
              "      <td>1.0</td>\n",
              "      <td>1.0</td>\n",
              "      <td>1.0</td>\n",
              "      <td>1.414894</td>\n",
              "      <td>john lewi christma ad mozthemonst</td>\n",
              "      <td>2</td>\n",
              "    </tr>\n",
              "    <tr>\n",
              "      <th>1</th>\n",
              "      <td>1</td>\n",
              "      <td>1.002480</td>\n",
              "      <td>Taylor Swift: …Ready for It? (Live) - SNL</td>\n",
              "      <td>1.865385</td>\n",
              "      <td>1.260870</td>\n",
              "      <td>1.406780</td>\n",
              "      <td>1.745763</td>\n",
              "      <td>1.0</td>\n",
              "      <td>1.0</td>\n",
              "      <td>1.0</td>\n",
              "      <td>...</td>\n",
              "      <td>2.0</td>\n",
              "      <td>1.0</td>\n",
              "      <td>1.0</td>\n",
              "      <td>1.0</td>\n",
              "      <td>1.0</td>\n",
              "      <td>1.0</td>\n",
              "      <td>1.0</td>\n",
              "      <td>1.372340</td>\n",
              "      <td>taylor swift live snl</td>\n",
              "      <td>1</td>\n",
              "    </tr>\n",
              "    <tr>\n",
              "      <th>2</th>\n",
              "      <td>2</td>\n",
              "      <td>1.040415</td>\n",
              "      <td>Eminem - Walk On Water (Audio) ft. Beyoncé</td>\n",
              "      <td>1.859890</td>\n",
              "      <td>1.739130</td>\n",
              "      <td>1.000000</td>\n",
              "      <td>1.050847</td>\n",
              "      <td>2.0</td>\n",
              "      <td>1.0</td>\n",
              "      <td>1.0</td>\n",
              "      <td>...</td>\n",
              "      <td>1.0</td>\n",
              "      <td>1.0</td>\n",
              "      <td>1.0</td>\n",
              "      <td>1.0</td>\n",
              "      <td>1.0</td>\n",
              "      <td>1.0</td>\n",
              "      <td>1.0</td>\n",
              "      <td>1.382979</td>\n",
              "      <td>eminem walk water audio ft beyoncé</td>\n",
              "      <td>1</td>\n",
              "    </tr>\n",
              "    <tr>\n",
              "      <th>3</th>\n",
              "      <td>3</td>\n",
              "      <td>1.000064</td>\n",
              "      <td>Goals from Salford City vs Class of 92 and Fri...</td>\n",
              "      <td>1.868132</td>\n",
              "      <td>1.086957</td>\n",
              "      <td>1.508475</td>\n",
              "      <td>1.644068</td>\n",
              "      <td>1.0</td>\n",
              "      <td>2.0</td>\n",
              "      <td>1.0</td>\n",
              "      <td>...</td>\n",
              "      <td>1.0</td>\n",
              "      <td>1.0</td>\n",
              "      <td>1.0</td>\n",
              "      <td>1.0</td>\n",
              "      <td>1.0</td>\n",
              "      <td>1.0</td>\n",
              "      <td>1.0</td>\n",
              "      <td>1.744681</td>\n",
              "      <td>goal salford citi vs class friend peninsula s...</td>\n",
              "      <td>0</td>\n",
              "    </tr>\n",
              "    <tr>\n",
              "      <th>4</th>\n",
              "      <td>4</td>\n",
              "      <td>1.000021</td>\n",
              "      <td>Dashcam captures truck's near miss with child ...</td>\n",
              "      <td>1.868132</td>\n",
              "      <td>1.043478</td>\n",
              "      <td>1.762712</td>\n",
              "      <td>1.220339</td>\n",
              "      <td>1.0</td>\n",
              "      <td>2.0</td>\n",
              "      <td>1.0</td>\n",
              "      <td>...</td>\n",
              "      <td>1.0</td>\n",
              "      <td>2.0</td>\n",
              "      <td>1.0</td>\n",
              "      <td>1.0</td>\n",
              "      <td>1.0</td>\n",
              "      <td>1.0</td>\n",
              "      <td>1.0</td>\n",
              "      <td>1.521277</td>\n",
              "      <td>dashcam captur truck near miss child norway</td>\n",
              "      <td>2</td>\n",
              "    </tr>\n",
              "  </tbody>\n",
              "</table>\n",
              "<p>5 rows × 33 columns</p>\n",
              "</div>\n",
              "      <button class=\"colab-df-convert\" onclick=\"convertToInteractive('df-b882cace-022c-4ee7-b7da-f3386392adae')\"\n",
              "              title=\"Convert this dataframe to an interactive table.\"\n",
              "              style=\"display:none;\">\n",
              "        \n",
              "  <svg xmlns=\"http://www.w3.org/2000/svg\" height=\"24px\"viewBox=\"0 0 24 24\"\n",
              "       width=\"24px\">\n",
              "    <path d=\"M0 0h24v24H0V0z\" fill=\"none\"/>\n",
              "    <path d=\"M18.56 5.44l.94 2.06.94-2.06 2.06-.94-2.06-.94-.94-2.06-.94 2.06-2.06.94zm-11 1L8.5 8.5l.94-2.06 2.06-.94-2.06-.94L8.5 2.5l-.94 2.06-2.06.94zm10 10l.94 2.06.94-2.06 2.06-.94-2.06-.94-.94-2.06-.94 2.06-2.06.94z\"/><path d=\"M17.41 7.96l-1.37-1.37c-.4-.4-.92-.59-1.43-.59-.52 0-1.04.2-1.43.59L10.3 9.45l-7.72 7.72c-.78.78-.78 2.05 0 2.83L4 21.41c.39.39.9.59 1.41.59.51 0 1.02-.2 1.41-.59l7.78-7.78 2.81-2.81c.8-.78.8-2.07 0-2.86zM5.41 20L4 18.59l7.72-7.72 1.47 1.35L5.41 20z\"/>\n",
              "  </svg>\n",
              "      </button>\n",
              "      \n",
              "  <style>\n",
              "    .colab-df-container {\n",
              "      display:flex;\n",
              "      flex-wrap:wrap;\n",
              "      gap: 12px;\n",
              "    }\n",
              "\n",
              "    .colab-df-convert {\n",
              "      background-color: #E8F0FE;\n",
              "      border: none;\n",
              "      border-radius: 50%;\n",
              "      cursor: pointer;\n",
              "      display: none;\n",
              "      fill: #1967D2;\n",
              "      height: 32px;\n",
              "      padding: 0 0 0 0;\n",
              "      width: 32px;\n",
              "    }\n",
              "\n",
              "    .colab-df-convert:hover {\n",
              "      background-color: #E2EBFA;\n",
              "      box-shadow: 0px 1px 2px rgba(60, 64, 67, 0.3), 0px 1px 3px 1px rgba(60, 64, 67, 0.15);\n",
              "      fill: #174EA6;\n",
              "    }\n",
              "\n",
              "    [theme=dark] .colab-df-convert {\n",
              "      background-color: #3B4455;\n",
              "      fill: #D2E3FC;\n",
              "    }\n",
              "\n",
              "    [theme=dark] .colab-df-convert:hover {\n",
              "      background-color: #434B5C;\n",
              "      box-shadow: 0px 1px 3px 1px rgba(0, 0, 0, 0.15);\n",
              "      filter: drop-shadow(0px 1px 2px rgba(0, 0, 0, 0.3));\n",
              "      fill: #FFFFFF;\n",
              "    }\n",
              "  </style>\n",
              "\n",
              "      <script>\n",
              "        const buttonEl =\n",
              "          document.querySelector('#df-b882cace-022c-4ee7-b7da-f3386392adae button.colab-df-convert');\n",
              "        buttonEl.style.display =\n",
              "          google.colab.kernel.accessAllowed ? 'block' : 'none';\n",
              "\n",
              "        async function convertToInteractive(key) {\n",
              "          const element = document.querySelector('#df-b882cace-022c-4ee7-b7da-f3386392adae');\n",
              "          const dataTable =\n",
              "            await google.colab.kernel.invokeFunction('convertToInteractive',\n",
              "                                                     [key], {});\n",
              "          if (!dataTable) return;\n",
              "\n",
              "          const docLinkHtml = 'Like what you see? Visit the ' +\n",
              "            '<a target=\"_blank\" href=https://colab.research.google.com/notebooks/data_table.ipynb>data table notebook</a>'\n",
              "            + ' to learn more about interactive tables.';\n",
              "          element.innerHTML = '';\n",
              "          dataTable['output_type'] = 'display_data';\n",
              "          await google.colab.output.renderOutput(dataTable, element);\n",
              "          const docLink = document.createElement('div');\n",
              "          docLink.innerHTML = docLinkHtml;\n",
              "          element.appendChild(docLink);\n",
              "        }\n",
              "      </script>\n",
              "    </div>\n",
              "  </div>\n",
              "  "
            ]
          },
          "metadata": {},
          "execution_count": 152
        }
      ],
      "source": [
        "Data = pd.read_csv('/content/drive/Shareddrives/NEURALNETS/features.csv')\n",
        "Data.head()"
      ]
    },
    {
      "cell_type": "markdown",
      "metadata": {
        "id": "UFod3qwh3ZJ3"
      },
      "source": [
        "### Removal of text fields PCA"
      ]
    },
    {
      "cell_type": "code",
      "execution_count": null,
      "metadata": {
        "colab": {
          "base_uri": "https://localhost:8080/",
          "height": 316
        },
        "id": "uqvuJMVyl7Kh",
        "outputId": "2d1d9029-d29f-4a47-f52e-49fc6707b4b8"
      },
      "outputs": [
        {
          "output_type": "execute_result",
          "data": {
            "text/plain": [
              "   Unnamed: 0     views  day_of_year      hour    minute    second  \\\n",
              "0           0  1.017015     1.859890  1.304348  1.644068  1.491525   \n",
              "1           1  1.002480     1.865385  1.260870  1.406780  1.745763   \n",
              "2           2  1.040415     1.859890  1.739130  1.000000  1.050847   \n",
              "3           3  1.000064     1.868132  1.086957  1.508475  1.644068   \n",
              "4           4  1.000021     1.868132  1.043478  1.762712  1.220339   \n",
              "\n",
              "   weekday_Friday  weekday_Monday  weekday_Saturday  weekday_Sunday  ...  \\\n",
              "0             2.0             1.0               1.0             1.0  ...   \n",
              "1             1.0             1.0               1.0             2.0  ...   \n",
              "2             2.0             1.0               1.0             1.0  ...   \n",
              "3             1.0             2.0               1.0             1.0  ...   \n",
              "4             1.0             2.0               1.0             1.0  ...   \n",
              "\n",
              "   category_id_23  category_id_24  category_id_25  category_id_26  \\\n",
              "0             1.0             1.0             1.0             2.0   \n",
              "1             1.0             2.0             1.0             1.0   \n",
              "2             1.0             1.0             1.0             1.0   \n",
              "3             1.0             1.0             1.0             1.0   \n",
              "4             1.0             1.0             2.0             1.0   \n",
              "\n",
              "   category_id_27  category_id_28  category_id_29  category_id_43  title_len  \\\n",
              "0             1.0             1.0             1.0             1.0   1.414894   \n",
              "1             1.0             1.0             1.0             1.0   1.372340   \n",
              "2             1.0             1.0             1.0             1.0   1.382979   \n",
              "3             1.0             1.0             1.0             1.0   1.744681   \n",
              "4             1.0             1.0             1.0             1.0   1.521277   \n",
              "\n",
              "   Title_emotion  \n",
              "0              2  \n",
              "1              1  \n",
              "2              1  \n",
              "3              0  \n",
              "4              2  \n",
              "\n",
              "[5 rows x 31 columns]"
            ],
            "text/html": [
              "\n",
              "  <div id=\"df-050bc40a-4f00-4454-88cb-05f01c1d3772\">\n",
              "    <div class=\"colab-df-container\">\n",
              "      <div>\n",
              "<style scoped>\n",
              "    .dataframe tbody tr th:only-of-type {\n",
              "        vertical-align: middle;\n",
              "    }\n",
              "\n",
              "    .dataframe tbody tr th {\n",
              "        vertical-align: top;\n",
              "    }\n",
              "\n",
              "    .dataframe thead th {\n",
              "        text-align: right;\n",
              "    }\n",
              "</style>\n",
              "<table border=\"1\" class=\"dataframe\">\n",
              "  <thead>\n",
              "    <tr style=\"text-align: right;\">\n",
              "      <th></th>\n",
              "      <th>Unnamed: 0</th>\n",
              "      <th>views</th>\n",
              "      <th>day_of_year</th>\n",
              "      <th>hour</th>\n",
              "      <th>minute</th>\n",
              "      <th>second</th>\n",
              "      <th>weekday_Friday</th>\n",
              "      <th>weekday_Monday</th>\n",
              "      <th>weekday_Saturday</th>\n",
              "      <th>weekday_Sunday</th>\n",
              "      <th>...</th>\n",
              "      <th>category_id_23</th>\n",
              "      <th>category_id_24</th>\n",
              "      <th>category_id_25</th>\n",
              "      <th>category_id_26</th>\n",
              "      <th>category_id_27</th>\n",
              "      <th>category_id_28</th>\n",
              "      <th>category_id_29</th>\n",
              "      <th>category_id_43</th>\n",
              "      <th>title_len</th>\n",
              "      <th>Title_emotion</th>\n",
              "    </tr>\n",
              "  </thead>\n",
              "  <tbody>\n",
              "    <tr>\n",
              "      <th>0</th>\n",
              "      <td>0</td>\n",
              "      <td>1.017015</td>\n",
              "      <td>1.859890</td>\n",
              "      <td>1.304348</td>\n",
              "      <td>1.644068</td>\n",
              "      <td>1.491525</td>\n",
              "      <td>2.0</td>\n",
              "      <td>1.0</td>\n",
              "      <td>1.0</td>\n",
              "      <td>1.0</td>\n",
              "      <td>...</td>\n",
              "      <td>1.0</td>\n",
              "      <td>1.0</td>\n",
              "      <td>1.0</td>\n",
              "      <td>2.0</td>\n",
              "      <td>1.0</td>\n",
              "      <td>1.0</td>\n",
              "      <td>1.0</td>\n",
              "      <td>1.0</td>\n",
              "      <td>1.414894</td>\n",
              "      <td>2</td>\n",
              "    </tr>\n",
              "    <tr>\n",
              "      <th>1</th>\n",
              "      <td>1</td>\n",
              "      <td>1.002480</td>\n",
              "      <td>1.865385</td>\n",
              "      <td>1.260870</td>\n",
              "      <td>1.406780</td>\n",
              "      <td>1.745763</td>\n",
              "      <td>1.0</td>\n",
              "      <td>1.0</td>\n",
              "      <td>1.0</td>\n",
              "      <td>2.0</td>\n",
              "      <td>...</td>\n",
              "      <td>1.0</td>\n",
              "      <td>2.0</td>\n",
              "      <td>1.0</td>\n",
              "      <td>1.0</td>\n",
              "      <td>1.0</td>\n",
              "      <td>1.0</td>\n",
              "      <td>1.0</td>\n",
              "      <td>1.0</td>\n",
              "      <td>1.372340</td>\n",
              "      <td>1</td>\n",
              "    </tr>\n",
              "    <tr>\n",
              "      <th>2</th>\n",
              "      <td>2</td>\n",
              "      <td>1.040415</td>\n",
              "      <td>1.859890</td>\n",
              "      <td>1.739130</td>\n",
              "      <td>1.000000</td>\n",
              "      <td>1.050847</td>\n",
              "      <td>2.0</td>\n",
              "      <td>1.0</td>\n",
              "      <td>1.0</td>\n",
              "      <td>1.0</td>\n",
              "      <td>...</td>\n",
              "      <td>1.0</td>\n",
              "      <td>1.0</td>\n",
              "      <td>1.0</td>\n",
              "      <td>1.0</td>\n",
              "      <td>1.0</td>\n",
              "      <td>1.0</td>\n",
              "      <td>1.0</td>\n",
              "      <td>1.0</td>\n",
              "      <td>1.382979</td>\n",
              "      <td>1</td>\n",
              "    </tr>\n",
              "    <tr>\n",
              "      <th>3</th>\n",
              "      <td>3</td>\n",
              "      <td>1.000064</td>\n",
              "      <td>1.868132</td>\n",
              "      <td>1.086957</td>\n",
              "      <td>1.508475</td>\n",
              "      <td>1.644068</td>\n",
              "      <td>1.0</td>\n",
              "      <td>2.0</td>\n",
              "      <td>1.0</td>\n",
              "      <td>1.0</td>\n",
              "      <td>...</td>\n",
              "      <td>1.0</td>\n",
              "      <td>1.0</td>\n",
              "      <td>1.0</td>\n",
              "      <td>1.0</td>\n",
              "      <td>1.0</td>\n",
              "      <td>1.0</td>\n",
              "      <td>1.0</td>\n",
              "      <td>1.0</td>\n",
              "      <td>1.744681</td>\n",
              "      <td>0</td>\n",
              "    </tr>\n",
              "    <tr>\n",
              "      <th>4</th>\n",
              "      <td>4</td>\n",
              "      <td>1.000021</td>\n",
              "      <td>1.868132</td>\n",
              "      <td>1.043478</td>\n",
              "      <td>1.762712</td>\n",
              "      <td>1.220339</td>\n",
              "      <td>1.0</td>\n",
              "      <td>2.0</td>\n",
              "      <td>1.0</td>\n",
              "      <td>1.0</td>\n",
              "      <td>...</td>\n",
              "      <td>1.0</td>\n",
              "      <td>1.0</td>\n",
              "      <td>2.0</td>\n",
              "      <td>1.0</td>\n",
              "      <td>1.0</td>\n",
              "      <td>1.0</td>\n",
              "      <td>1.0</td>\n",
              "      <td>1.0</td>\n",
              "      <td>1.521277</td>\n",
              "      <td>2</td>\n",
              "    </tr>\n",
              "  </tbody>\n",
              "</table>\n",
              "<p>5 rows × 31 columns</p>\n",
              "</div>\n",
              "      <button class=\"colab-df-convert\" onclick=\"convertToInteractive('df-050bc40a-4f00-4454-88cb-05f01c1d3772')\"\n",
              "              title=\"Convert this dataframe to an interactive table.\"\n",
              "              style=\"display:none;\">\n",
              "        \n",
              "  <svg xmlns=\"http://www.w3.org/2000/svg\" height=\"24px\"viewBox=\"0 0 24 24\"\n",
              "       width=\"24px\">\n",
              "    <path d=\"M0 0h24v24H0V0z\" fill=\"none\"/>\n",
              "    <path d=\"M18.56 5.44l.94 2.06.94-2.06 2.06-.94-2.06-.94-.94-2.06-.94 2.06-2.06.94zm-11 1L8.5 8.5l.94-2.06 2.06-.94-2.06-.94L8.5 2.5l-.94 2.06-2.06.94zm10 10l.94 2.06.94-2.06 2.06-.94-2.06-.94-.94-2.06-.94 2.06-2.06.94z\"/><path d=\"M17.41 7.96l-1.37-1.37c-.4-.4-.92-.59-1.43-.59-.52 0-1.04.2-1.43.59L10.3 9.45l-7.72 7.72c-.78.78-.78 2.05 0 2.83L4 21.41c.39.39.9.59 1.41.59.51 0 1.02-.2 1.41-.59l7.78-7.78 2.81-2.81c.8-.78.8-2.07 0-2.86zM5.41 20L4 18.59l7.72-7.72 1.47 1.35L5.41 20z\"/>\n",
              "  </svg>\n",
              "      </button>\n",
              "      \n",
              "  <style>\n",
              "    .colab-df-container {\n",
              "      display:flex;\n",
              "      flex-wrap:wrap;\n",
              "      gap: 12px;\n",
              "    }\n",
              "\n",
              "    .colab-df-convert {\n",
              "      background-color: #E8F0FE;\n",
              "      border: none;\n",
              "      border-radius: 50%;\n",
              "      cursor: pointer;\n",
              "      display: none;\n",
              "      fill: #1967D2;\n",
              "      height: 32px;\n",
              "      padding: 0 0 0 0;\n",
              "      width: 32px;\n",
              "    }\n",
              "\n",
              "    .colab-df-convert:hover {\n",
              "      background-color: #E2EBFA;\n",
              "      box-shadow: 0px 1px 2px rgba(60, 64, 67, 0.3), 0px 1px 3px 1px rgba(60, 64, 67, 0.15);\n",
              "      fill: #174EA6;\n",
              "    }\n",
              "\n",
              "    [theme=dark] .colab-df-convert {\n",
              "      background-color: #3B4455;\n",
              "      fill: #D2E3FC;\n",
              "    }\n",
              "\n",
              "    [theme=dark] .colab-df-convert:hover {\n",
              "      background-color: #434B5C;\n",
              "      box-shadow: 0px 1px 3px 1px rgba(0, 0, 0, 0.15);\n",
              "      filter: drop-shadow(0px 1px 2px rgba(0, 0, 0, 0.3));\n",
              "      fill: #FFFFFF;\n",
              "    }\n",
              "  </style>\n",
              "\n",
              "      <script>\n",
              "        const buttonEl =\n",
              "          document.querySelector('#df-050bc40a-4f00-4454-88cb-05f01c1d3772 button.colab-df-convert');\n",
              "        buttonEl.style.display =\n",
              "          google.colab.kernel.accessAllowed ? 'block' : 'none';\n",
              "\n",
              "        async function convertToInteractive(key) {\n",
              "          const element = document.querySelector('#df-050bc40a-4f00-4454-88cb-05f01c1d3772');\n",
              "          const dataTable =\n",
              "            await google.colab.kernel.invokeFunction('convertToInteractive',\n",
              "                                                     [key], {});\n",
              "          if (!dataTable) return;\n",
              "\n",
              "          const docLinkHtml = 'Like what you see? Visit the ' +\n",
              "            '<a target=\"_blank\" href=https://colab.research.google.com/notebooks/data_table.ipynb>data table notebook</a>'\n",
              "            + ' to learn more about interactive tables.';\n",
              "          element.innerHTML = '';\n",
              "          dataTable['output_type'] = 'display_data';\n",
              "          await google.colab.output.renderOutput(dataTable, element);\n",
              "          const docLink = document.createElement('div');\n",
              "          docLink.innerHTML = docLinkHtml;\n",
              "          element.appendChild(docLink);\n",
              "        }\n",
              "      </script>\n",
              "    </div>\n",
              "  </div>\n",
              "  "
            ]
          },
          "metadata": {},
          "execution_count": 153
        }
      ],
      "source": [
        "from sklearn.decomposition import PCA\n",
        "\n",
        "Data.pop(\"title\")\n",
        "Data.pop(\"clean_title\")\n",
        "\n",
        "\n",
        "# create dummies for emotion \n",
        "Data.head()\n"
      ]
    },
    {
      "cell_type": "markdown",
      "metadata": {
        "id": "aGnEaVjBCufB"
      },
      "source": [
        "## create NN for view prediction"
      ]
    },
    {
      "cell_type": "code",
      "execution_count": null,
      "metadata": {
        "id": "OtuC2SvC8YQK"
      },
      "outputs": [],
      "source": [
        "from tensorflow.keras.layers import Input, Dense, Activation,Dropout\n",
        "from tensorflow.keras.models import Model\n",
        "from sklearn.metrics import mean_squared_error, r2_score, roc_auc_score, accuracy_score\n",
        "from sklearn.model_selection import train_test_split"
      ]
    },
    {
      "cell_type": "code",
      "execution_count": null,
      "metadata": {
        "id": "o-FcgFrNC4VE"
      },
      "outputs": [],
      "source": [
        "# test and training sets \n",
        "X = Data.iloc[:, 2:31].values\n",
        "y = Data.iloc[:, 1].values\n",
        "X_train,X_test,y_train,y_test = train_test_split(X, y, test_size = 0.2)\n",
        "# default shuffle = true "
      ]
    },
    {
      "cell_type": "code",
      "execution_count": null,
      "metadata": {
        "colab": {
          "base_uri": "https://localhost:8080/"
        },
        "id": "u6OO_igJ8iih",
        "outputId": "08763101-b23d-4384-f381-1dfc299af0e6"
      },
      "outputs": [
        {
          "output_type": "execute_result",
          "data": {
            "text/plain": [
              "array([[1.85989011, 1.30434783, 1.6440678 , ..., 1.        , 1.41489362,\n",
              "        2.        ],\n",
              "       [1.86538462, 1.26086957, 1.40677966, ..., 1.        , 1.37234043,\n",
              "        1.        ],\n",
              "       [1.85989011, 1.73913043, 1.        , ..., 1.        , 1.38297872,\n",
              "        1.        ],\n",
              "       ...,\n",
              "       [1.3489011 , 1.47826087, 1.08474576, ..., 1.        , 1.29787234,\n",
              "        3.        ],\n",
              "       [1.3489011 , 1.86956522, 1.54237288, ..., 1.        , 1.73404255,\n",
              "        0.        ],\n",
              "       [1.35714286, 1.17391304, 1.10169492, ..., 1.        , 1.4787234 ,\n",
              "        1.        ]])"
            ]
          },
          "metadata": {},
          "execution_count": 157
        }
      ],
      "source": [
        "X"
      ]
    },
    {
      "cell_type": "code",
      "execution_count": null,
      "metadata": {
        "colab": {
          "base_uri": "https://localhost:8080/"
        },
        "id": "9Opg4ogQ8jnc",
        "outputId": "8cfac04e-c3b9-4e49-8e1d-3d94ed3a8f8c"
      },
      "outputs": [
        {
          "output_type": "execute_result",
          "data": {
            "text/plain": [
              "array([1.01701535, 1.00247983, 1.04041505, ..., 1.06981838, 1.03372292,\n",
              "       1.00142909])"
            ]
          },
          "metadata": {},
          "execution_count": 158
        }
      ],
      "source": [
        "y"
      ]
    },
    {
      "cell_type": "code",
      "execution_count": null,
      "metadata": {
        "id": "AtOY5ka71C_E"
      },
      "outputs": [],
      "source": [
        "# sc = StandardScaler()\n",
        "# X_train = sc.fit_transform(X_train)\n",
        "# X_test = sc.transform(X_test)"
      ]
    },
    {
      "cell_type": "code",
      "execution_count": null,
      "metadata": {
        "id": "FBTcYmz-1GcR"
      },
      "outputs": [],
      "source": [
        "# build and train model\n",
        "input_layer = Input(shape=(X.shape[1],))\n",
        "dense_layer_1 = Dense(500, activation='relu')(input_layer)\n",
        "#dense_layer_2 = Dense(100, activation='relu')(dense_layer_1)\n",
        "#dense_layer_3 = Dense(25, activation='relu')(dense_layer_2)\n",
        "#output = Dense(1)(dense_layer_3)\n",
        "output = Dense(1)(dense_layer_1)\n",
        "\n",
        "model = Model(inputs=input_layer, outputs=output)\n",
        "#model.compile(loss=\"mean_squared_error\" , optimizer=\"adam\", metrics=[\"mean_squared_error\"])\n",
        "model.compile(loss = 'mean_squared_error', optimizer='adam',metrics = ['accuracy'])\n",
        "# model.compile(loss=\"mean_squared_error\" , optimizer=\"adam\", metrics=[\"mean_squared_error\"])"
      ]
    },
    {
      "cell_type": "code",
      "execution_count": null,
      "metadata": {
        "id": "5DvrI5jD1aU2",
        "colab": {
          "base_uri": "https://localhost:8080/"
        },
        "outputId": "141f816b-df1f-4368-91aa-d2f6fa2ff51c"
      },
      "outputs": [
        {
          "output_type": "stream",
          "name": "stdout",
          "text": [
            "Epoch 1/50\n",
            "12453/12453 [==============================] - 38s 3ms/step - loss: 0.0034 - accuracy: 4.0153e-05 - val_loss: 0.0018 - val_accuracy: 0.0000e+00\n",
            "Epoch 2/50\n",
            "12453/12453 [==============================] - 36s 3ms/step - loss: 0.0024 - accuracy: 4.0153e-05 - val_loss: 0.0017 - val_accuracy: 0.0000e+00\n",
            "Epoch 3/50\n",
            "12453/12453 [==============================] - 35s 3ms/step - loss: 0.0022 - accuracy: 4.0153e-05 - val_loss: 0.0016 - val_accuracy: 0.0000e+00\n",
            "Epoch 4/50\n",
            "12453/12453 [==============================] - 35s 3ms/step - loss: 0.0021 - accuracy: 4.0153e-05 - val_loss: 0.0017 - val_accuracy: 0.0000e+00\n",
            "Epoch 5/50\n",
            "12453/12453 [==============================] - 36s 3ms/step - loss: 0.0021 - accuracy: 4.0153e-05 - val_loss: 0.0017 - val_accuracy: 0.0000e+00\n",
            "Epoch 6/50\n",
            "12453/12453 [==============================] - 35s 3ms/step - loss: 0.0020 - accuracy: 4.0153e-05 - val_loss: 0.0017 - val_accuracy: 0.0000e+00\n",
            "Epoch 7/50\n",
            "12453/12453 [==============================] - 36s 3ms/step - loss: 0.0020 - accuracy: 4.0153e-05 - val_loss: 0.0018 - val_accuracy: 0.0000e+00\n",
            "Epoch 8/50\n",
            "12453/12453 [==============================] - 35s 3ms/step - loss: 0.0020 - accuracy: 4.0153e-05 - val_loss: 0.0016 - val_accuracy: 0.0000e+00\n",
            "Epoch 9/50\n",
            "12453/12453 [==============================] - 35s 3ms/step - loss: 0.0020 - accuracy: 4.0153e-05 - val_loss: 0.0017 - val_accuracy: 0.0000e+00\n",
            "Epoch 10/50\n",
            "12453/12453 [==============================] - 36s 3ms/step - loss: 0.0020 - accuracy: 4.0153e-05 - val_loss: 0.0019 - val_accuracy: 0.0000e+00\n",
            "Epoch 11/50\n",
            "12453/12453 [==============================] - 35s 3ms/step - loss: 0.0019 - accuracy: 4.0153e-05 - val_loss: 0.0016 - val_accuracy: 0.0000e+00\n",
            "Epoch 12/50\n",
            "12453/12453 [==============================] - 35s 3ms/step - loss: 0.0019 - accuracy: 4.0153e-05 - val_loss: 0.0019 - val_accuracy: 0.0000e+00\n",
            "Epoch 13/50\n",
            "12453/12453 [==============================] - 35s 3ms/step - loss: 0.0019 - accuracy: 4.0153e-05 - val_loss: 0.0016 - val_accuracy: 0.0000e+00\n",
            "Epoch 14/50\n",
            "12453/12453 [==============================] - 35s 3ms/step - loss: 0.0019 - accuracy: 4.0153e-05 - val_loss: 0.0017 - val_accuracy: 0.0000e+00\n",
            "Epoch 15/50\n",
            "12453/12453 [==============================] - 35s 3ms/step - loss: 0.0019 - accuracy: 4.0153e-05 - val_loss: 0.0016 - val_accuracy: 0.0000e+00\n",
            "Epoch 16/50\n",
            "12453/12453 [==============================] - 35s 3ms/step - loss: 0.0019 - accuracy: 4.0153e-05 - val_loss: 0.0016 - val_accuracy: 0.0000e+00\n",
            "Epoch 17/50\n",
            "12453/12453 [==============================] - 36s 3ms/step - loss: 0.0019 - accuracy: 4.0153e-05 - val_loss: 0.0016 - val_accuracy: 0.0000e+00\n",
            "Epoch 18/50\n",
            "12453/12453 [==============================] - 36s 3ms/step - loss: 0.0018 - accuracy: 4.0153e-05 - val_loss: 0.0016 - val_accuracy: 0.0000e+00\n",
            "Epoch 19/50\n",
            "12453/12453 [==============================] - 35s 3ms/step - loss: 0.0018 - accuracy: 4.0153e-05 - val_loss: 0.0016 - val_accuracy: 0.0000e+00\n",
            "Epoch 20/50\n",
            "12453/12453 [==============================] - 35s 3ms/step - loss: 0.0018 - accuracy: 4.0153e-05 - val_loss: 0.0016 - val_accuracy: 0.0000e+00\n",
            "Epoch 21/50\n",
            "12453/12453 [==============================] - 35s 3ms/step - loss: 0.0018 - accuracy: 4.0153e-05 - val_loss: 0.0016 - val_accuracy: 0.0000e+00\n",
            "Epoch 22/50\n",
            "12453/12453 [==============================] - 35s 3ms/step - loss: 0.0018 - accuracy: 4.0153e-05 - val_loss: 0.0015 - val_accuracy: 0.0000e+00\n",
            "Epoch 23/50\n",
            "12453/12453 [==============================] - 35s 3ms/step - loss: 0.0018 - accuracy: 4.0153e-05 - val_loss: 0.0016 - val_accuracy: 0.0000e+00\n",
            "Epoch 24/50\n",
            "12453/12453 [==============================] - 35s 3ms/step - loss: 0.0018 - accuracy: 4.0153e-05 - val_loss: 0.0017 - val_accuracy: 0.0000e+00\n",
            "Epoch 25/50\n",
            "12453/12453 [==============================] - 35s 3ms/step - loss: 0.0018 - accuracy: 4.0153e-05 - val_loss: 0.0015 - val_accuracy: 0.0000e+00\n",
            "Epoch 26/50\n",
            "12453/12453 [==============================] - 35s 3ms/step - loss: 0.0018 - accuracy: 4.0153e-05 - val_loss: 0.0017 - val_accuracy: 0.0000e+00\n",
            "Epoch 27/50\n",
            "12453/12453 [==============================] - 35s 3ms/step - loss: 0.0018 - accuracy: 4.0153e-05 - val_loss: 0.0016 - val_accuracy: 0.0000e+00\n",
            "Epoch 28/50\n",
            "12453/12453 [==============================] - 35s 3ms/step - loss: 0.0018 - accuracy: 4.0153e-05 - val_loss: 0.0016 - val_accuracy: 0.0000e+00\n",
            "Epoch 29/50\n",
            "12453/12453 [==============================] - 35s 3ms/step - loss: 0.0018 - accuracy: 4.0153e-05 - val_loss: 0.0016 - val_accuracy: 0.0000e+00\n",
            "Epoch 30/50\n",
            "12453/12453 [==============================] - 35s 3ms/step - loss: 0.0018 - accuracy: 4.0153e-05 - val_loss: 0.0015 - val_accuracy: 0.0000e+00\n",
            "Epoch 31/50\n",
            "12453/12453 [==============================] - 35s 3ms/step - loss: 0.0018 - accuracy: 4.0153e-05 - val_loss: 0.0017 - val_accuracy: 0.0000e+00\n",
            "Epoch 32/50\n",
            "12453/12453 [==============================] - 35s 3ms/step - loss: 0.0018 - accuracy: 4.0153e-05 - val_loss: 0.0016 - val_accuracy: 0.0000e+00\n",
            "Epoch 33/50\n",
            "12453/12453 [==============================] - 36s 3ms/step - loss: 0.0017 - accuracy: 4.0153e-05 - val_loss: 0.0015 - val_accuracy: 0.0000e+00\n",
            "Epoch 34/50\n",
            "12453/12453 [==============================] - 35s 3ms/step - loss: 0.0018 - accuracy: 4.0153e-05 - val_loss: 0.0015 - val_accuracy: 0.0000e+00\n",
            "Epoch 35/50\n",
            "12453/12453 [==============================] - 35s 3ms/step - loss: 0.0017 - accuracy: 4.0153e-05 - val_loss: 0.0015 - val_accuracy: 0.0000e+00\n",
            "Epoch 36/50\n",
            "12453/12453 [==============================] - 35s 3ms/step - loss: 0.0018 - accuracy: 4.0153e-05 - val_loss: 0.0016 - val_accuracy: 0.0000e+00\n",
            "Epoch 37/50\n",
            "12453/12453 [==============================] - 35s 3ms/step - loss: 0.0017 - accuracy: 4.0153e-05 - val_loss: 0.0016 - val_accuracy: 0.0000e+00\n",
            "Epoch 38/50\n",
            "12453/12453 [==============================] - 35s 3ms/step - loss: 0.0018 - accuracy: 4.0153e-05 - val_loss: 0.0016 - val_accuracy: 0.0000e+00\n",
            "Epoch 39/50\n",
            "12453/12453 [==============================] - 35s 3ms/step - loss: 0.0017 - accuracy: 4.0153e-05 - val_loss: 0.0016 - val_accuracy: 0.0000e+00\n",
            "Epoch 40/50\n",
            "12453/12453 [==============================] - 37s 3ms/step - loss: 0.0017 - accuracy: 4.0153e-05 - val_loss: 0.0017 - val_accuracy: 0.0000e+00\n",
            "Epoch 41/50\n",
            "12453/12453 [==============================] - 36s 3ms/step - loss: 0.0018 - accuracy: 4.0153e-05 - val_loss: 0.0015 - val_accuracy: 0.0000e+00\n",
            "Epoch 42/50\n",
            "12453/12453 [==============================] - 36s 3ms/step - loss: 0.0017 - accuracy: 4.0153e-05 - val_loss: 0.0016 - val_accuracy: 0.0000e+00\n",
            "Epoch 43/50\n",
            "12453/12453 [==============================] - 36s 3ms/step - loss: 0.0018 - accuracy: 4.0153e-05 - val_loss: 0.0016 - val_accuracy: 0.0000e+00\n",
            "Epoch 44/50\n",
            "12453/12453 [==============================] - 35s 3ms/step - loss: 0.0017 - accuracy: 4.0153e-05 - val_loss: 0.0015 - val_accuracy: 0.0000e+00\n",
            "Epoch 45/50\n",
            "12453/12453 [==============================] - 35s 3ms/step - loss: 0.0017 - accuracy: 4.0153e-05 - val_loss: 0.0015 - val_accuracy: 0.0000e+00\n",
            "Epoch 46/50\n",
            "12453/12453 [==============================] - 35s 3ms/step - loss: 0.0017 - accuracy: 4.0153e-05 - val_loss: 0.0015 - val_accuracy: 0.0000e+00\n",
            "Epoch 47/50\n",
            "12453/12453 [==============================] - 35s 3ms/step - loss: 0.0017 - accuracy: 4.0153e-05 - val_loss: 0.0015 - val_accuracy: 0.0000e+00\n",
            "Epoch 48/50\n",
            "12453/12453 [==============================] - 35s 3ms/step - loss: 0.0017 - accuracy: 4.0153e-05 - val_loss: 0.0015 - val_accuracy: 0.0000e+00\n",
            "Epoch 49/50\n",
            "12453/12453 [==============================] - 35s 3ms/step - loss: 0.0017 - accuracy: 4.0153e-05 - val_loss: 0.0015 - val_accuracy: 0.0000e+00\n",
            "Epoch 50/50\n",
            "12453/12453 [==============================] - 35s 3ms/step - loss: 0.0017 - accuracy: 4.0153e-05 - val_loss: 0.0017 - val_accuracy: 0.0000e+00\n"
          ]
        }
      ],
      "source": [
        "# epochs = 100\n",
        "history = model.fit(X_train, y_train, batch_size=2, epochs=50, verbose=1, validation_split=0.2)"
      ]
    },
    {
      "cell_type": "code",
      "execution_count": null,
      "metadata": {
        "colab": {
          "base_uri": "https://localhost:8080/",
          "height": 295
        },
        "id": "6RvEI762Wisw",
        "outputId": "05f8c49a-2986-4d65-bebd-393b741a5f83"
      },
      "outputs": [
        {
          "output_type": "display_data",
          "data": {
            "text/plain": [
              "<Figure size 432x288 with 1 Axes>"
            ],
            "image/png": "[encoded data removed]"
          },
          "metadata": {
            "needs_background": "light"
          }
        }
      ],
      "source": [
        "import matplotlib.pyplot as plt\n",
        "\n",
        "loss = history.history['loss']\n",
        "val_loss = history.history['val_loss']\n",
        "epochs = range(1, len(loss) + 1)\n",
        "plt.plot(epochs, loss, 'r', label='Training loss')\n",
        "plt.plot(epochs, val_loss, 'b', label='Validation loss')\n",
        "plt.title('Training and validation loss')\n",
        "plt.xlabel('Epochs')\n",
        "plt.ylabel('Loss')\n",
        "plt.legend()\n",
        "plt.show()"
      ]
    },
    {
      "cell_type": "code",
      "execution_count": null,
      "metadata": {
        "id": "3raMMkmmB9CD"
      },
      "outputs": [],
      "source": [
        "# predict test set \n",
        "result = []\n",
        "er = 0 \n",
        "for x in range(len(X_test)):\n",
        "  result.append(model.predict(X_test[x].reshape(1, X_test.shape[1]), batch_size=1)[0])\n",
        "  error = abs(y_test[x] - result[x]) \n",
        "  er = er + error\n",
        "\n",
        "er = er / len(X_test)\n",
        "print(er)\n"
      ]
    },
    {
      "cell_type": "code",
      "execution_count": null,
      "metadata": {
        "colab": {
          "base_uri": "https://localhost:8080/"
        },
        "id": "kTgGQsM4HJUm",
        "outputId": "0d771d6d-8cef-4117-f78f-0b0883bc1d2b"
      },
      "outputs": [
        {
          "output_type": "execute_result",
          "data": {
            "text/plain": [
              "0.0030274139117613796"
            ]
          },
          "metadata": {},
          "execution_count": 165
        }
      ],
      "source": [
        "# predict test set \n",
        "result = []\n",
        "\n",
        "for x in range(len(X_test)):\n",
        "  result.append(model.predict(X_test[x].reshape(1, X_test.shape[1]), batch_size=1)[0])\n",
        "\n",
        "mse = ((y_test - result)**2).mean(axis=None)\n",
        "mse"
      ]
    },
    {
      "cell_type": "markdown",
      "metadata": {
        "id": "Q1F8nL03IwgG"
      },
      "source": [
        "# Compare with NN for view prediction - without emotion labelled data "
      ]
    },
    {
      "cell_type": "code",
      "execution_count": null,
      "metadata": {
        "id": "mjKz0totIwgG"
      },
      "outputs": [],
      "source": [
        "from tensorflow.keras.layers import Input, Dense, Activation,Dropout\n",
        "from tensorflow.keras.models import Model\n",
        "from sklearn.metrics import mean_squared_error, r2_score, roc_auc_score, accuracy_score\n",
        "from sklearn.model_selection import train_test_split"
      ]
    },
    {
      "cell_type": "code",
      "execution_count": null,
      "metadata": {
        "id": "sWem119EIwgG"
      },
      "outputs": [],
      "source": [
        "# test and training sets \n",
        "X = Data.iloc[:, 2:30].values\n",
        "y = Data.iloc[:, 1].values\n",
        "X_train,X_test,y_train,y_test = train_test_split(X, y, test_size = 0.2)\n",
        "# default shuffle = true "
      ]
    },
    {
      "cell_type": "code",
      "execution_count": null,
      "metadata": {
        "colab": {
          "base_uri": "https://localhost:8080/"
        },
        "id": "pyb1vUURIwgG",
        "outputId": "628f1949-3f69-4e88-8465-79fdd44dba4c"
      },
      "outputs": [
        {
          "data": {
            "text/plain": [
              "array([0.85989011, 0.30434783, 0.6440678 , 0.49152542, 1.        ,\n",
              "       0.        , 0.        , 0.        , 0.        , 0.        ,\n",
              "       0.        , 0.        , 0.        , 0.        , 0.        ,\n",
              "       0.        , 0.        , 0.        , 0.        , 0.        ,\n",
              "       0.        , 0.        , 1.        , 0.        , 0.        ,\n",
              "       0.        , 0.        , 0.41489362])"
            ]
          },
          "execution_count": 29,
          "metadata": {},
          "output_type": "execute_result"
        }
      ],
      "source": [
        "X[0]"
      ]
    },
    {
      "cell_type": "code",
      "execution_count": null,
      "metadata": {
        "colab": {
          "base_uri": "https://localhost:8080/"
        },
        "id": "z_h-CPNfIwgH",
        "outputId": "225b74a2-ea62-428b-bf54-a2b3e4ef2207"
      },
      "outputs": [
        {
          "data": {
            "text/plain": [
              "array([0.01701535, 0.00247983, 0.04041505, ..., 0.00183548, 0.00170645,\n",
              "       0.00030361])"
            ]
          },
          "execution_count": 30,
          "metadata": {},
          "output_type": "execute_result"
        }
      ],
      "source": [
        "y"
      ]
    },
    {
      "cell_type": "code",
      "execution_count": null,
      "metadata": {
        "id": "-F_OzXyMIwgH"
      },
      "outputs": [],
      "source": [
        "# sc = StandardScaler()\n",
        "# X_train = sc.fit_transform(X_train)\n",
        "# X_test = sc.transform(X_test)"
      ]
    },
    {
      "cell_type": "code",
      "execution_count": null,
      "metadata": {
        "id": "qcIZr1rZIwgH"
      },
      "outputs": [],
      "source": [
        "# build and train model\n",
        "input_layer = Input(shape=(X.shape[1],))\n",
        "dense_layer_1 = Dense(500, activation='relu')(input_layer)\n",
        "#dense_layer_2 = Dense(100, activation='relu')(dense_layer_1)\n",
        "#dense_layer_3 = Dense(25, activation='relu')(dense_layer_2)\n",
        "#output = Dense(1)(dense_layer_3)\n",
        "output = Dense(1)(dense_layer_1)\n",
        "\n",
        "model = Model(inputs=input_layer, outputs=output)\n",
        "#model.compile(loss=\"mean_squared_error\" , optimizer=\"adam\", metrics=[\"mean_squared_error\"])\n",
        "model.compile(loss = 'mean_squared_error', optimizer='adam',metrics = ['accuracy'])\n",
        "# model.compile(loss=\"mean_squared_error\" , optimizer=\"adam\", metrics=[\"mean_squared_error\"])"
      ]
    },
    {
      "cell_type": "code",
      "execution_count": null,
      "metadata": {
        "colab": {
          "background_save": true
        },
        "id": "CBZfVau_IwgH"
      },
      "outputs": [],
      "source": [
        "# epochs = 100\n",
        "history = model.fit(X_train, y_train, batch_size=2, epochs=50, verbose=1, validation_split=0.2)"
      ]
    },
    {
      "cell_type": "code",
      "execution_count": null,
      "metadata": {
        "colab": {
          "base_uri": "https://localhost:8080/",
          "height": 295
        },
        "id": "Ez1lxmR5IwgH",
        "outputId": "c4a8788c-f281-4f4d-a148-5fb92f9f07b4"
      },
      "outputs": [
        {
          "data": {
            "image/png": "[encoded data removed]",
            "text/plain": [
              "<Figure size 432x288 with 1 Axes>"
            ]
          },
          "metadata": {},
          "output_type": "display_data"
        }
      ],
      "source": [
        "import matplotlib.pyplot as plt\n",
        "\n",
        "loss = history.history['loss']\n",
        "val_loss = history.history['val_loss']\n",
        "epochs = range(1, len(loss) + 1)\n",
        "plt.plot(epochs, loss, 'r', label='Training loss')\n",
        "plt.plot(epochs, val_loss, 'b', label='Validation loss')\n",
        "plt.title('Training and validation loss')\n",
        "plt.xlabel('Epochs')\n",
        "plt.ylabel('Loss')\n",
        "plt.legend()\n",
        "plt.show()"
      ]
    },
    {
      "cell_type": "code",
      "execution_count": null,
      "metadata": {
        "id": "jjcIbi-PIwgI"
      },
      "outputs": [],
      "source": [
        "# predict test set \n",
        "result = []\n",
        "for x in range(len(X_test)):\n",
        "  result.append(model.predict(X_test[x].reshape(1, X_test.shape[1]), batch_size=1)[0])\n",
        "\n"
      ]
    },
    {
      "cell_type": "code",
      "execution_count": null,
      "metadata": {
        "id": "oIA6g4ecIwgI"
      },
      "outputs": [],
      "source": [
        "error = y_test - result \n",
        "error\n"
      ]
    },
    {
      "cell_type": "code",
      "execution_count": null,
      "metadata": {
        "colab": {
          "base_uri": "https://localhost:8080/"
        },
        "id": "Ru_1cmhdIwgI",
        "outputId": "2d543c52-2574-45ba-e462-e5e3b4db26c5"
      },
      "outputs": [
        {
          "data": {
            "text/plain": [
              "0.0007382186158726178"
            ]
          },
          "execution_count": 17,
          "metadata": {},
          "output_type": "execute_result"
        }
      ],
      "source": [
        "mse = ((y_test - result)**2).mean(axis=None)\n",
        "mse"
      ]
    }
  ],
  "metadata": {
    "colab": {
      "collapsed_sections": [
        "z8gFAso_H4YE",
        "BOiaHIKGHp5Q",
        "TiA0KaFJ0uYX",
        "r6ECRFtWbAIG",
        "0RnGwqAW1Cia",
        "JhckB20b1WA2",
        "Q1F8nL03IwgG"
      ],
      "provenance": []
    },
    "kernelspec": {
      "display_name": "Python 3",
      "name": "python3"
    },
    "language_info": {
      "name": "python"
    },
    "accelerator": "GPU"
  },
  "nbformat": 4,
  "nbformat_minor": 0
}